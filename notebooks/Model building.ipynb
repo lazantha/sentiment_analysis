{
 "cells": [
  {
   "cell_type": "code",
   "execution_count": 1,
   "id": "1e2941ff",
   "metadata": {},
   "outputs": [],
   "source": [
    "import numpy as np\n",
    "import pandas as pd\n",
    "import matplotlib.pyplot as plt"
   ]
  },
  {
   "cell_type": "code",
   "execution_count": 2,
   "id": "89274198",
   "metadata": {},
   "outputs": [],
   "source": [
    "data=pd.read_csv('../artifacts/sentiment_analysis.csv')"
   ]
  },
  {
   "cell_type": "code",
   "execution_count": 3,
   "id": "52f01a66",
   "metadata": {},
   "outputs": [
    {
     "data": {
      "text/html": [
       "<div>\n",
       "<style scoped>\n",
       "    .dataframe tbody tr th:only-of-type {\n",
       "        vertical-align: middle;\n",
       "    }\n",
       "\n",
       "    .dataframe tbody tr th {\n",
       "        vertical-align: top;\n",
       "    }\n",
       "\n",
       "    .dataframe thead th {\n",
       "        text-align: right;\n",
       "    }\n",
       "</style>\n",
       "<table border=\"1\" class=\"dataframe\">\n",
       "  <thead>\n",
       "    <tr style=\"text-align: right;\">\n",
       "      <th></th>\n",
       "      <th>id</th>\n",
       "      <th>label</th>\n",
       "      <th>tweet</th>\n",
       "    </tr>\n",
       "  </thead>\n",
       "  <tbody>\n",
       "    <tr>\n",
       "      <th>0</th>\n",
       "      <td>1</td>\n",
       "      <td>0</td>\n",
       "      <td>#fingerprint #Pregnancy Test https://goo.gl/h1...</td>\n",
       "    </tr>\n",
       "    <tr>\n",
       "      <th>1</th>\n",
       "      <td>2</td>\n",
       "      <td>0</td>\n",
       "      <td>Finally a transparant silicon case ^^ Thanks t...</td>\n",
       "    </tr>\n",
       "    <tr>\n",
       "      <th>2</th>\n",
       "      <td>3</td>\n",
       "      <td>0</td>\n",
       "      <td>We love this! Would you go? #talk #makememorie...</td>\n",
       "    </tr>\n",
       "    <tr>\n",
       "      <th>3</th>\n",
       "      <td>4</td>\n",
       "      <td>0</td>\n",
       "      <td>I'm wired I know I'm George I was made that wa...</td>\n",
       "    </tr>\n",
       "    <tr>\n",
       "      <th>4</th>\n",
       "      <td>5</td>\n",
       "      <td>1</td>\n",
       "      <td>What amazing service! Apple won't even talk to...</td>\n",
       "    </tr>\n",
       "  </tbody>\n",
       "</table>\n",
       "</div>"
      ],
      "text/plain": [
       "   id  label                                              tweet\n",
       "0   1      0  #fingerprint #Pregnancy Test https://goo.gl/h1...\n",
       "1   2      0  Finally a transparant silicon case ^^ Thanks t...\n",
       "2   3      0  We love this! Would you go? #talk #makememorie...\n",
       "3   4      0  I'm wired I know I'm George I was made that wa...\n",
       "4   5      1  What amazing service! Apple won't even talk to..."
      ]
     },
     "execution_count": 3,
     "metadata": {},
     "output_type": "execute_result"
    }
   ],
   "source": [
    "data.head()"
   ]
  },
  {
   "cell_type": "code",
   "execution_count": 4,
   "id": "d4525351",
   "metadata": {},
   "outputs": [
    {
     "data": {
      "text/plain": [
       "0"
      ]
     },
     "execution_count": 4,
     "metadata": {},
     "output_type": "execute_result"
    }
   ],
   "source": [
    "data.duplicated().sum()"
   ]
  },
  {
   "cell_type": "code",
   "execution_count": 5,
   "id": "2ef26e29",
   "metadata": {},
   "outputs": [
    {
     "data": {
      "text/plain": [
       "id       0\n",
       "label    0\n",
       "tweet    0\n",
       "dtype: int64"
      ]
     },
     "execution_count": 5,
     "metadata": {},
     "output_type": "execute_result"
    }
   ],
   "source": [
    "data.isnull().sum()"
   ]
  },
  {
   "cell_type": "markdown",
   "id": "671b4fa0",
   "metadata": {},
   "source": [
    "# Text data processing\n",
    "## Convert uppercase to lowecase\n",
    "## Remove links and punctuation marks\n",
    "## Remove numbers and Stopwords(and /the/by/is/in..)\n",
    "## Stemming(create single word for multiple words with same meaning)"
   ]
  },
  {
   "cell_type": "code",
   "execution_count": 6,
   "id": "2c70e016",
   "metadata": {},
   "outputs": [],
   "source": [
    "import re\n",
    "import string"
   ]
  },
  {
   "cell_type": "markdown",
   "id": "089b50b6",
   "metadata": {},
   "source": [
    "## convert uppercase into lowercase"
   ]
  },
  {
   "cell_type": "code",
   "execution_count": 7,
   "id": "14235e50",
   "metadata": {},
   "outputs": [
    {
     "data": {
      "text/html": [
       "<div>\n",
       "<style scoped>\n",
       "    .dataframe tbody tr th:only-of-type {\n",
       "        vertical-align: middle;\n",
       "    }\n",
       "\n",
       "    .dataframe tbody tr th {\n",
       "        vertical-align: top;\n",
       "    }\n",
       "\n",
       "    .dataframe thead th {\n",
       "        text-align: right;\n",
       "    }\n",
       "</style>\n",
       "<table border=\"1\" class=\"dataframe\">\n",
       "  <thead>\n",
       "    <tr style=\"text-align: right;\">\n",
       "      <th></th>\n",
       "      <th>id</th>\n",
       "      <th>label</th>\n",
       "      <th>tweet</th>\n",
       "    </tr>\n",
       "  </thead>\n",
       "  <tbody>\n",
       "    <tr>\n",
       "      <th>0</th>\n",
       "      <td>1</td>\n",
       "      <td>0</td>\n",
       "      <td>#fingerprint #Pregnancy Test https://goo.gl/h1...</td>\n",
       "    </tr>\n",
       "    <tr>\n",
       "      <th>1</th>\n",
       "      <td>2</td>\n",
       "      <td>0</td>\n",
       "      <td>Finally a transparant silicon case ^^ Thanks t...</td>\n",
       "    </tr>\n",
       "    <tr>\n",
       "      <th>2</th>\n",
       "      <td>3</td>\n",
       "      <td>0</td>\n",
       "      <td>We love this! Would you go? #talk #makememorie...</td>\n",
       "    </tr>\n",
       "    <tr>\n",
       "      <th>3</th>\n",
       "      <td>4</td>\n",
       "      <td>0</td>\n",
       "      <td>I'm wired I know I'm George I was made that wa...</td>\n",
       "    </tr>\n",
       "    <tr>\n",
       "      <th>4</th>\n",
       "      <td>5</td>\n",
       "      <td>1</td>\n",
       "      <td>What amazing service! Apple won't even talk to...</td>\n",
       "    </tr>\n",
       "  </tbody>\n",
       "</table>\n",
       "</div>"
      ],
      "text/plain": [
       "   id  label                                              tweet\n",
       "0   1      0  #fingerprint #Pregnancy Test https://goo.gl/h1...\n",
       "1   2      0  Finally a transparant silicon case ^^ Thanks t...\n",
       "2   3      0  We love this! Would you go? #talk #makememorie...\n",
       "3   4      0  I'm wired I know I'm George I was made that wa...\n",
       "4   5      1  What amazing service! Apple won't even talk to..."
      ]
     },
     "execution_count": 7,
     "metadata": {},
     "output_type": "execute_result"
    }
   ],
   "source": [
    "data.head()"
   ]
  },
  {
   "cell_type": "code",
   "execution_count": 8,
   "id": "66ec4618",
   "metadata": {},
   "outputs": [],
   "source": [
    "data['tweet']=data['tweet'].apply(lambda x:\" \".join(x.lower() for x in x.split()))"
   ]
  },
  {
   "cell_type": "code",
   "execution_count": 9,
   "id": "aa1b2464",
   "metadata": {},
   "outputs": [
    {
     "data": {
      "text/html": [
       "<div>\n",
       "<style scoped>\n",
       "    .dataframe tbody tr th:only-of-type {\n",
       "        vertical-align: middle;\n",
       "    }\n",
       "\n",
       "    .dataframe tbody tr th {\n",
       "        vertical-align: top;\n",
       "    }\n",
       "\n",
       "    .dataframe thead th {\n",
       "        text-align: right;\n",
       "    }\n",
       "</style>\n",
       "<table border=\"1\" class=\"dataframe\">\n",
       "  <thead>\n",
       "    <tr style=\"text-align: right;\">\n",
       "      <th></th>\n",
       "      <th>id</th>\n",
       "      <th>label</th>\n",
       "      <th>tweet</th>\n",
       "    </tr>\n",
       "  </thead>\n",
       "  <tbody>\n",
       "    <tr>\n",
       "      <th>0</th>\n",
       "      <td>1</td>\n",
       "      <td>0</td>\n",
       "      <td>#fingerprint #pregnancy test https://goo.gl/h1...</td>\n",
       "    </tr>\n",
       "    <tr>\n",
       "      <th>1</th>\n",
       "      <td>2</td>\n",
       "      <td>0</td>\n",
       "      <td>finally a transparant silicon case ^^ thanks t...</td>\n",
       "    </tr>\n",
       "    <tr>\n",
       "      <th>2</th>\n",
       "      <td>3</td>\n",
       "      <td>0</td>\n",
       "      <td>we love this! would you go? #talk #makememorie...</td>\n",
       "    </tr>\n",
       "    <tr>\n",
       "      <th>3</th>\n",
       "      <td>4</td>\n",
       "      <td>0</td>\n",
       "      <td>i'm wired i know i'm george i was made that wa...</td>\n",
       "    </tr>\n",
       "    <tr>\n",
       "      <th>4</th>\n",
       "      <td>5</td>\n",
       "      <td>1</td>\n",
       "      <td>what amazing service! apple won't even talk to...</td>\n",
       "    </tr>\n",
       "  </tbody>\n",
       "</table>\n",
       "</div>"
      ],
      "text/plain": [
       "   id  label                                              tweet\n",
       "0   1      0  #fingerprint #pregnancy test https://goo.gl/h1...\n",
       "1   2      0  finally a transparant silicon case ^^ thanks t...\n",
       "2   3      0  we love this! would you go? #talk #makememorie...\n",
       "3   4      0  i'm wired i know i'm george i was made that wa...\n",
       "4   5      1  what amazing service! apple won't even talk to..."
      ]
     },
     "execution_count": 9,
     "metadata": {},
     "output_type": "execute_result"
    }
   ],
   "source": [
    "data.head()"
   ]
  },
  {
   "cell_type": "markdown",
   "id": "8e223aee",
   "metadata": {},
   "source": [
    "## Remove links"
   ]
  },
  {
   "cell_type": "code",
   "execution_count": 10,
   "id": "a7dc8c87",
   "metadata": {},
   "outputs": [],
   "source": [
    "data[\"tweet\"] = data['tweet'].apply(lambda x: \" \".join(re.sub(r'^https?:\\/\\/.*[\\r\\n]*', '', x, flags=re.MULTILINE) for x in x.split()))"
   ]
  },
  {
   "cell_type": "code",
   "execution_count": 11,
   "id": "e70e0c39",
   "metadata": {},
   "outputs": [
    {
     "data": {
      "text/html": [
       "<div>\n",
       "<style scoped>\n",
       "    .dataframe tbody tr th:only-of-type {\n",
       "        vertical-align: middle;\n",
       "    }\n",
       "\n",
       "    .dataframe tbody tr th {\n",
       "        vertical-align: top;\n",
       "    }\n",
       "\n",
       "    .dataframe thead th {\n",
       "        text-align: right;\n",
       "    }\n",
       "</style>\n",
       "<table border=\"1\" class=\"dataframe\">\n",
       "  <thead>\n",
       "    <tr style=\"text-align: right;\">\n",
       "      <th></th>\n",
       "      <th>id</th>\n",
       "      <th>label</th>\n",
       "      <th>tweet</th>\n",
       "    </tr>\n",
       "  </thead>\n",
       "  <tbody>\n",
       "    <tr>\n",
       "      <th>0</th>\n",
       "      <td>1</td>\n",
       "      <td>0</td>\n",
       "      <td>#fingerprint #pregnancy test  #android #apps #...</td>\n",
       "    </tr>\n",
       "    <tr>\n",
       "      <th>1</th>\n",
       "      <td>2</td>\n",
       "      <td>0</td>\n",
       "      <td>finally a transparant silicon case ^^ thanks t...</td>\n",
       "    </tr>\n",
       "    <tr>\n",
       "      <th>2</th>\n",
       "      <td>3</td>\n",
       "      <td>0</td>\n",
       "      <td>we love this! would you go? #talk #makememorie...</td>\n",
       "    </tr>\n",
       "    <tr>\n",
       "      <th>3</th>\n",
       "      <td>4</td>\n",
       "      <td>0</td>\n",
       "      <td>i'm wired i know i'm george i was made that wa...</td>\n",
       "    </tr>\n",
       "    <tr>\n",
       "      <th>4</th>\n",
       "      <td>5</td>\n",
       "      <td>1</td>\n",
       "      <td>what amazing service! apple won't even talk to...</td>\n",
       "    </tr>\n",
       "  </tbody>\n",
       "</table>\n",
       "</div>"
      ],
      "text/plain": [
       "   id  label                                              tweet\n",
       "0   1      0  #fingerprint #pregnancy test  #android #apps #...\n",
       "1   2      0  finally a transparant silicon case ^^ thanks t...\n",
       "2   3      0  we love this! would you go? #talk #makememorie...\n",
       "3   4      0  i'm wired i know i'm george i was made that wa...\n",
       "4   5      1  what amazing service! apple won't even talk to..."
      ]
     },
     "execution_count": 11,
     "metadata": {},
     "output_type": "execute_result"
    }
   ],
   "source": [
    "data.head()"
   ]
  },
  {
   "cell_type": "markdown",
   "id": "2699c711",
   "metadata": {},
   "source": [
    "## Remove punctuations"
   ]
  },
  {
   "cell_type": "code",
   "execution_count": 12,
   "id": "be70f0a4",
   "metadata": {},
   "outputs": [
    {
     "data": {
      "text/plain": [
       "'!\"#$%&\\'()*+,-./:;<=>?@[\\\\]^_`{|}~'"
      ]
     },
     "execution_count": 12,
     "metadata": {},
     "output_type": "execute_result"
    }
   ],
   "source": [
    "string.punctuation"
   ]
  },
  {
   "cell_type": "code",
   "execution_count": 13,
   "id": "3b3e5f5a",
   "metadata": {},
   "outputs": [],
   "source": [
    "def remove_punctuations(text):\n",
    "    for punctuation in string.punctuation:\n",
    "        text = text.replace(punctuation, '')\n",
    "    return text\n",
    "\n",
    "data[\"tweet\"] = data[\"tweet\"].apply(remove_punctuations)"
   ]
  },
  {
   "cell_type": "code",
   "execution_count": 14,
   "id": "18c62747",
   "metadata": {},
   "outputs": [
    {
     "data": {
      "text/html": [
       "<div>\n",
       "<style scoped>\n",
       "    .dataframe tbody tr th:only-of-type {\n",
       "        vertical-align: middle;\n",
       "    }\n",
       "\n",
       "    .dataframe tbody tr th {\n",
       "        vertical-align: top;\n",
       "    }\n",
       "\n",
       "    .dataframe thead th {\n",
       "        text-align: right;\n",
       "    }\n",
       "</style>\n",
       "<table border=\"1\" class=\"dataframe\">\n",
       "  <thead>\n",
       "    <tr style=\"text-align: right;\">\n",
       "      <th></th>\n",
       "      <th>id</th>\n",
       "      <th>label</th>\n",
       "      <th>tweet</th>\n",
       "    </tr>\n",
       "  </thead>\n",
       "  <tbody>\n",
       "    <tr>\n",
       "      <th>0</th>\n",
       "      <td>1</td>\n",
       "      <td>0</td>\n",
       "      <td>fingerprint pregnancy test  android apps beaut...</td>\n",
       "    </tr>\n",
       "    <tr>\n",
       "      <th>1</th>\n",
       "      <td>2</td>\n",
       "      <td>0</td>\n",
       "      <td>finally a transparant silicon case  thanks to ...</td>\n",
       "    </tr>\n",
       "    <tr>\n",
       "      <th>2</th>\n",
       "      <td>3</td>\n",
       "      <td>0</td>\n",
       "      <td>we love this would you go talk makememories un...</td>\n",
       "    </tr>\n",
       "    <tr>\n",
       "      <th>3</th>\n",
       "      <td>4</td>\n",
       "      <td>0</td>\n",
       "      <td>im wired i know im george i was made that way ...</td>\n",
       "    </tr>\n",
       "    <tr>\n",
       "      <th>4</th>\n",
       "      <td>5</td>\n",
       "      <td>1</td>\n",
       "      <td>what amazing service apple wont even talk to m...</td>\n",
       "    </tr>\n",
       "  </tbody>\n",
       "</table>\n",
       "</div>"
      ],
      "text/plain": [
       "   id  label                                              tweet\n",
       "0   1      0  fingerprint pregnancy test  android apps beaut...\n",
       "1   2      0  finally a transparant silicon case  thanks to ...\n",
       "2   3      0  we love this would you go talk makememories un...\n",
       "3   4      0  im wired i know im george i was made that way ...\n",
       "4   5      1  what amazing service apple wont even talk to m..."
      ]
     },
     "execution_count": 14,
     "metadata": {},
     "output_type": "execute_result"
    }
   ],
   "source": [
    "data.head()"
   ]
  },
  {
   "cell_type": "markdown",
   "id": "b996f416",
   "metadata": {},
   "source": [
    "## Remove numbers"
   ]
  },
  {
   "cell_type": "code",
   "execution_count": 15,
   "id": "0179b14b",
   "metadata": {},
   "outputs": [],
   "source": [
    "data[\"tweet\"] = data['tweet'].str.replace('\\d+', '', regex=True)"
   ]
  },
  {
   "cell_type": "code",
   "execution_count": 16,
   "id": "738ee4be",
   "metadata": {},
   "outputs": [
    {
     "data": {
      "text/html": [
       "<div>\n",
       "<style scoped>\n",
       "    .dataframe tbody tr th:only-of-type {\n",
       "        vertical-align: middle;\n",
       "    }\n",
       "\n",
       "    .dataframe tbody tr th {\n",
       "        vertical-align: top;\n",
       "    }\n",
       "\n",
       "    .dataframe thead th {\n",
       "        text-align: right;\n",
       "    }\n",
       "</style>\n",
       "<table border=\"1\" class=\"dataframe\">\n",
       "  <thead>\n",
       "    <tr style=\"text-align: right;\">\n",
       "      <th></th>\n",
       "      <th>id</th>\n",
       "      <th>label</th>\n",
       "      <th>tweet</th>\n",
       "    </tr>\n",
       "  </thead>\n",
       "  <tbody>\n",
       "    <tr>\n",
       "      <th>7915</th>\n",
       "      <td>7916</td>\n",
       "      <td>0</td>\n",
       "      <td>live out loud lol liveoutloud selfie smile son...</td>\n",
       "    </tr>\n",
       "    <tr>\n",
       "      <th>7916</th>\n",
       "      <td>7917</td>\n",
       "      <td>0</td>\n",
       "      <td>we would like to wish you an amazing day make ...</td>\n",
       "    </tr>\n",
       "    <tr>\n",
       "      <th>7917</th>\n",
       "      <td>7918</td>\n",
       "      <td>0</td>\n",
       "      <td>helping my lovely  year old neighbor with her ...</td>\n",
       "    </tr>\n",
       "    <tr>\n",
       "      <th>7918</th>\n",
       "      <td>7919</td>\n",
       "      <td>0</td>\n",
       "      <td>finally got my smart pocket wifi stay connecte...</td>\n",
       "    </tr>\n",
       "    <tr>\n",
       "      <th>7919</th>\n",
       "      <td>7920</td>\n",
       "      <td>0</td>\n",
       "      <td>apple barcelona apple store bcn barcelona trav...</td>\n",
       "    </tr>\n",
       "  </tbody>\n",
       "</table>\n",
       "</div>"
      ],
      "text/plain": [
       "        id  label                                              tweet\n",
       "7915  7916      0  live out loud lol liveoutloud selfie smile son...\n",
       "7916  7917      0  we would like to wish you an amazing day make ...\n",
       "7917  7918      0  helping my lovely  year old neighbor with her ...\n",
       "7918  7919      0  finally got my smart pocket wifi stay connecte...\n",
       "7919  7920      0  apple barcelona apple store bcn barcelona trav..."
      ]
     },
     "execution_count": 16,
     "metadata": {},
     "output_type": "execute_result"
    }
   ],
   "source": [
    "data.tail()"
   ]
  },
  {
   "cell_type": "markdown",
   "id": "0142695b",
   "metadata": {},
   "source": [
    "## Remove stopwords"
   ]
  },
  {
   "cell_type": "code",
   "execution_count": 17,
   "id": "5c9c9463",
   "metadata": {},
   "outputs": [
    {
     "name": "stdout",
     "output_type": "stream",
     "text": [
      "Requirement already satisfied: nltk in d:\\programming\\python\\machine learning\\projects\\sentiment_analysis\\env\\lib\\site-packages (3.8.1)\n",
      "Requirement already satisfied: click in d:\\programming\\python\\machine learning\\projects\\sentiment_analysis\\env\\lib\\site-packages (from nltk) (8.1.3)\n",
      "Requirement already satisfied: joblib in d:\\programming\\python\\machine learning\\projects\\sentiment_analysis\\env\\lib\\site-packages (from nltk) (1.2.0)\n",
      "Requirement already satisfied: regex>=2021.8.3 in d:\\programming\\python\\machine learning\\projects\\sentiment_analysis\\env\\lib\\site-packages (from nltk) (2023.6.3)\n",
      "Requirement already satisfied: tqdm in d:\\programming\\python\\machine learning\\projects\\sentiment_analysis\\env\\lib\\site-packages (from nltk) (4.65.0)\n",
      "Requirement already satisfied: colorama in d:\\programming\\python\\machine learning\\projects\\sentiment_analysis\\env\\lib\\site-packages (from click->nltk) (0.4.6)\n"
     ]
    },
    {
     "name": "stderr",
     "output_type": "stream",
     "text": [
      "\n",
      "[notice] A new release of pip is available: 23.0 -> 23.1.2\n",
      "[notice] To update, run: python.exe -m pip install --upgrade pip\n"
     ]
    }
   ],
   "source": [
    "!pip install nltk\n",
    "#natural language toolkit"
   ]
  },
  {
   "cell_type": "code",
   "execution_count": 18,
   "id": "49a720a0",
   "metadata": {},
   "outputs": [],
   "source": [
    "import nltk"
   ]
  },
  {
   "cell_type": "code",
   "execution_count": 19,
   "id": "b550706d",
   "metadata": {},
   "outputs": [
    {
     "name": "stderr",
     "output_type": "stream",
     "text": [
      "[nltk_data] Downloading package stopwords to ../static/model...\n",
      "[nltk_data]   Package stopwords is already up-to-date!\n"
     ]
    },
    {
     "data": {
      "text/plain": [
       "True"
      ]
     },
     "execution_count": 19,
     "metadata": {},
     "output_type": "execute_result"
    }
   ],
   "source": [
    "nltk.download('stopwords', download_dir='../static/model')"
   ]
  },
  {
   "cell_type": "code",
   "execution_count": 20,
   "id": "a892f6fd",
   "metadata": {},
   "outputs": [],
   "source": [
    "with open('../static/model/corpora/stopwords/english', 'r') as file:\n",
    "    sw = file.read().splitlines()"
   ]
  },
  {
   "cell_type": "code",
   "execution_count": 21,
   "id": "10859fff",
   "metadata": {},
   "outputs": [
    {
     "data": {
      "text/plain": [
       "['i',\n",
       " 'me',\n",
       " 'my',\n",
       " 'myself',\n",
       " 'we',\n",
       " 'our',\n",
       " 'ours',\n",
       " 'ourselves',\n",
       " 'you',\n",
       " \"you're\",\n",
       " \"you've\",\n",
       " \"you'll\",\n",
       " \"you'd\",\n",
       " 'your',\n",
       " 'yours',\n",
       " 'yourself',\n",
       " 'yourselves',\n",
       " 'he',\n",
       " 'him',\n",
       " 'his',\n",
       " 'himself',\n",
       " 'she',\n",
       " \"she's\",\n",
       " 'her',\n",
       " 'hers',\n",
       " 'herself',\n",
       " 'it',\n",
       " \"it's\",\n",
       " 'its',\n",
       " 'itself',\n",
       " 'they',\n",
       " 'them',\n",
       " 'their',\n",
       " 'theirs',\n",
       " 'themselves',\n",
       " 'what',\n",
       " 'which',\n",
       " 'who',\n",
       " 'whom',\n",
       " 'this',\n",
       " 'that',\n",
       " \"that'll\",\n",
       " 'these',\n",
       " 'those',\n",
       " 'am',\n",
       " 'is',\n",
       " 'are',\n",
       " 'was',\n",
       " 'were',\n",
       " 'be',\n",
       " 'been',\n",
       " 'being',\n",
       " 'have',\n",
       " 'has',\n",
       " 'had',\n",
       " 'having',\n",
       " 'do',\n",
       " 'does',\n",
       " 'did',\n",
       " 'doing',\n",
       " 'a',\n",
       " 'an',\n",
       " 'the',\n",
       " 'and',\n",
       " 'but',\n",
       " 'if',\n",
       " 'or',\n",
       " 'because',\n",
       " 'as',\n",
       " 'until',\n",
       " 'while',\n",
       " 'of',\n",
       " 'at',\n",
       " 'by',\n",
       " 'for',\n",
       " 'with',\n",
       " 'about',\n",
       " 'against',\n",
       " 'between',\n",
       " 'into',\n",
       " 'through',\n",
       " 'during',\n",
       " 'before',\n",
       " 'after',\n",
       " 'above',\n",
       " 'below',\n",
       " 'to',\n",
       " 'from',\n",
       " 'up',\n",
       " 'down',\n",
       " 'in',\n",
       " 'out',\n",
       " 'on',\n",
       " 'off',\n",
       " 'over',\n",
       " 'under',\n",
       " 'again',\n",
       " 'further',\n",
       " 'then',\n",
       " 'once',\n",
       " 'here',\n",
       " 'there',\n",
       " 'when',\n",
       " 'where',\n",
       " 'why',\n",
       " 'how',\n",
       " 'all',\n",
       " 'any',\n",
       " 'both',\n",
       " 'each',\n",
       " 'few',\n",
       " 'more',\n",
       " 'most',\n",
       " 'other',\n",
       " 'some',\n",
       " 'such',\n",
       " 'no',\n",
       " 'nor',\n",
       " 'not',\n",
       " 'only',\n",
       " 'own',\n",
       " 'same',\n",
       " 'so',\n",
       " 'than',\n",
       " 'too',\n",
       " 'very',\n",
       " 's',\n",
       " 't',\n",
       " 'can',\n",
       " 'will',\n",
       " 'just',\n",
       " 'don',\n",
       " \"don't\",\n",
       " 'should',\n",
       " \"should've\",\n",
       " 'now',\n",
       " 'd',\n",
       " 'll',\n",
       " 'm',\n",
       " 'o',\n",
       " 're',\n",
       " 've',\n",
       " 'y',\n",
       " 'ain',\n",
       " 'aren',\n",
       " \"aren't\",\n",
       " 'couldn',\n",
       " \"couldn't\",\n",
       " 'didn',\n",
       " \"didn't\",\n",
       " 'doesn',\n",
       " \"doesn't\",\n",
       " 'hadn',\n",
       " \"hadn't\",\n",
       " 'hasn',\n",
       " \"hasn't\",\n",
       " 'haven',\n",
       " \"haven't\",\n",
       " 'isn',\n",
       " \"isn't\",\n",
       " 'ma',\n",
       " 'mightn',\n",
       " \"mightn't\",\n",
       " 'mustn',\n",
       " \"mustn't\",\n",
       " 'needn',\n",
       " \"needn't\",\n",
       " 'shan',\n",
       " \"shan't\",\n",
       " 'shouldn',\n",
       " \"shouldn't\",\n",
       " 'wasn',\n",
       " \"wasn't\",\n",
       " 'weren',\n",
       " \"weren't\",\n",
       " 'won',\n",
       " \"won't\",\n",
       " 'wouldn',\n",
       " \"wouldn't\"]"
      ]
     },
     "execution_count": 21,
     "metadata": {},
     "output_type": "execute_result"
    }
   ],
   "source": [
    "sw"
   ]
  },
  {
   "cell_type": "code",
   "execution_count": 22,
   "id": "a19261fb",
   "metadata": {},
   "outputs": [],
   "source": [
    "data[\"tweet\"] = data[\"tweet\"].apply(lambda x: \" \".join(x for x in x.split() if x not in sw))"
   ]
  },
  {
   "cell_type": "code",
   "execution_count": 23,
   "id": "fcc4202c",
   "metadata": {},
   "outputs": [
    {
     "data": {
      "text/html": [
       "<div>\n",
       "<style scoped>\n",
       "    .dataframe tbody tr th:only-of-type {\n",
       "        vertical-align: middle;\n",
       "    }\n",
       "\n",
       "    .dataframe tbody tr th {\n",
       "        vertical-align: top;\n",
       "    }\n",
       "\n",
       "    .dataframe thead th {\n",
       "        text-align: right;\n",
       "    }\n",
       "</style>\n",
       "<table border=\"1\" class=\"dataframe\">\n",
       "  <thead>\n",
       "    <tr style=\"text-align: right;\">\n",
       "      <th></th>\n",
       "      <th>id</th>\n",
       "      <th>label</th>\n",
       "      <th>tweet</th>\n",
       "    </tr>\n",
       "  </thead>\n",
       "  <tbody>\n",
       "    <tr>\n",
       "      <th>0</th>\n",
       "      <td>1</td>\n",
       "      <td>0</td>\n",
       "      <td>fingerprint pregnancy test android apps beauti...</td>\n",
       "    </tr>\n",
       "    <tr>\n",
       "      <th>1</th>\n",
       "      <td>2</td>\n",
       "      <td>0</td>\n",
       "      <td>finally transparant silicon case thanks uncle ...</td>\n",
       "    </tr>\n",
       "    <tr>\n",
       "      <th>2</th>\n",
       "      <td>3</td>\n",
       "      <td>0</td>\n",
       "      <td>love would go talk makememories unplug relax i...</td>\n",
       "    </tr>\n",
       "    <tr>\n",
       "      <th>3</th>\n",
       "      <td>4</td>\n",
       "      <td>0</td>\n",
       "      <td>im wired know im george made way iphone cute d...</td>\n",
       "    </tr>\n",
       "    <tr>\n",
       "      <th>4</th>\n",
       "      <td>5</td>\n",
       "      <td>1</td>\n",
       "      <td>amazing service apple wont even talk question ...</td>\n",
       "    </tr>\n",
       "  </tbody>\n",
       "</table>\n",
       "</div>"
      ],
      "text/plain": [
       "   id  label                                              tweet\n",
       "0   1      0  fingerprint pregnancy test android apps beauti...\n",
       "1   2      0  finally transparant silicon case thanks uncle ...\n",
       "2   3      0  love would go talk makememories unplug relax i...\n",
       "3   4      0  im wired know im george made way iphone cute d...\n",
       "4   5      1  amazing service apple wont even talk question ..."
      ]
     },
     "execution_count": 23,
     "metadata": {},
     "output_type": "execute_result"
    }
   ],
   "source": [
    "data.head()"
   ]
  },
  {
   "cell_type": "markdown",
   "id": "8a37e0d0",
   "metadata": {},
   "source": [
    "## Stemming"
   ]
  },
  {
   "cell_type": "code",
   "execution_count": 24,
   "id": "e084e76d",
   "metadata": {},
   "outputs": [],
   "source": [
    "from nltk.stem import PorterStemmer\n",
    "ps = PorterStemmer()"
   ]
  },
  {
   "cell_type": "code",
   "execution_count": 25,
   "id": "2eef7188",
   "metadata": {},
   "outputs": [],
   "source": [
    "data[\"tweet\"] = data[\"tweet\"].apply(lambda x: \" \".join(ps.stem(x) for x in x.split()))"
   ]
  },
  {
   "cell_type": "code",
   "execution_count": 26,
   "id": "b055e4a1",
   "metadata": {},
   "outputs": [
    {
     "data": {
      "text/plain": [
       "0    fingerprint pregnanc test android app beauti c...\n",
       "1    final transpar silicon case thank uncl yay son...\n",
       "2    love would go talk makememori unplug relax iph...\n",
       "3    im wire know im georg made way iphon cute dave...\n",
       "4    amaz servic appl wont even talk question unles...\n",
       "Name: tweet, dtype: object"
      ]
     },
     "execution_count": 26,
     "metadata": {},
     "output_type": "execute_result"
    }
   ],
   "source": [
    "data[\"tweet\"].head()"
   ]
  },
  {
   "cell_type": "code",
   "execution_count": 27,
   "id": "ac5bd24b",
   "metadata": {},
   "outputs": [
    {
     "data": {
      "text/plain": [
       "0    fingerprint pregnanc test android app beauti c...\n",
       "1    final transpar silicon case thank uncl yay son...\n",
       "2    love would go talk makememori unplug relax iph...\n",
       "3    im wire know im georg made way iphon cute dave...\n",
       "4    amaz servic appl wont even talk question unles...\n",
       "Name: tweet, dtype: object"
      ]
     },
     "execution_count": 27,
     "metadata": {},
     "output_type": "execute_result"
    }
   ],
   "source": [
    "data[\"tweet\"].head()"
   ]
  },
  {
   "cell_type": "markdown",
   "id": "9d6574c3",
   "metadata": {},
   "source": [
    "## Building vocabulary"
   ]
  },
  {
   "cell_type": "code",
   "execution_count": 28,
   "id": "d20a1d31",
   "metadata": {},
   "outputs": [],
   "source": [
    "from collections import Counter"
   ]
  },
  {
   "cell_type": "code",
   "execution_count": 29,
   "id": "e8a24ac4",
   "metadata": {},
   "outputs": [],
   "source": [
    "vocab=Counter()"
   ]
  },
  {
   "cell_type": "code",
   "execution_count": 30,
   "id": "80e8c4f0",
   "metadata": {},
   "outputs": [
    {
     "data": {
      "text/plain": [
       "Counter()"
      ]
     },
     "execution_count": 30,
     "metadata": {},
     "output_type": "execute_result"
    }
   ],
   "source": [
    "vocab"
   ]
  },
  {
   "cell_type": "code",
   "execution_count": 31,
   "id": "c8b52519",
   "metadata": {},
   "outputs": [
    {
     "data": {
      "text/html": [
       "<div>\n",
       "<style scoped>\n",
       "    .dataframe tbody tr th:only-of-type {\n",
       "        vertical-align: middle;\n",
       "    }\n",
       "\n",
       "    .dataframe tbody tr th {\n",
       "        vertical-align: top;\n",
       "    }\n",
       "\n",
       "    .dataframe thead th {\n",
       "        text-align: right;\n",
       "    }\n",
       "</style>\n",
       "<table border=\"1\" class=\"dataframe\">\n",
       "  <thead>\n",
       "    <tr style=\"text-align: right;\">\n",
       "      <th></th>\n",
       "      <th>id</th>\n",
       "      <th>label</th>\n",
       "      <th>tweet</th>\n",
       "    </tr>\n",
       "  </thead>\n",
       "  <tbody>\n",
       "    <tr>\n",
       "      <th>0</th>\n",
       "      <td>1</td>\n",
       "      <td>0</td>\n",
       "      <td>fingerprint pregnanc test android app beauti c...</td>\n",
       "    </tr>\n",
       "    <tr>\n",
       "      <th>1</th>\n",
       "      <td>2</td>\n",
       "      <td>0</td>\n",
       "      <td>final transpar silicon case thank uncl yay son...</td>\n",
       "    </tr>\n",
       "    <tr>\n",
       "      <th>2</th>\n",
       "      <td>3</td>\n",
       "      <td>0</td>\n",
       "      <td>love would go talk makememori unplug relax iph...</td>\n",
       "    </tr>\n",
       "    <tr>\n",
       "      <th>3</th>\n",
       "      <td>4</td>\n",
       "      <td>0</td>\n",
       "      <td>im wire know im georg made way iphon cute dave...</td>\n",
       "    </tr>\n",
       "    <tr>\n",
       "      <th>4</th>\n",
       "      <td>5</td>\n",
       "      <td>1</td>\n",
       "      <td>amaz servic appl wont even talk question unles...</td>\n",
       "    </tr>\n",
       "  </tbody>\n",
       "</table>\n",
       "</div>"
      ],
      "text/plain": [
       "   id  label                                              tweet\n",
       "0   1      0  fingerprint pregnanc test android app beauti c...\n",
       "1   2      0  final transpar silicon case thank uncl yay son...\n",
       "2   3      0  love would go talk makememori unplug relax iph...\n",
       "3   4      0  im wire know im georg made way iphon cute dave...\n",
       "4   5      1  amaz servic appl wont even talk question unles..."
      ]
     },
     "execution_count": 31,
     "metadata": {},
     "output_type": "execute_result"
    }
   ],
   "source": [
    "data.head()"
   ]
  },
  {
   "cell_type": "code",
   "execution_count": 32,
   "id": "c312355e",
   "metadata": {},
   "outputs": [],
   "source": [
    "for sentence in data['tweet']:\n",
    "    vocab.update(sentence.split())"
   ]
  },
  {
   "cell_type": "code",
   "execution_count": 33,
   "id": "8b5758d2",
   "metadata": {},
   "outputs": [
    {
     "data": {
      "text/plain": [
       "Counter({'iphon': 4073,\n",
       "         'appl': 2876,\n",
       "         'samsung': 1395,\n",
       "         'new': 1137,\n",
       "         'phone': 1015,\n",
       "         'follow': 885,\n",
       "         'soni': 819,\n",
       "         '…': 751,\n",
       "         'ipad': 537,\n",
       "         'rt': 525,\n",
       "         'love': 499,\n",
       "         'like': 455,\n",
       "         'day': 426,\n",
       "         'app': 416,\n",
       "         'life': 415,\n",
       "         'android': 414,\n",
       "         'photo': 394,\n",
       "         'get': 382,\n",
       "         'io': 382,\n",
       "         'galaxi': 361,\n",
       "         'instagram': 358,\n",
       "         'case': 348,\n",
       "         'beauti': 322,\n",
       "         'cute': 322,\n",
       "         'gain': 311,\n",
       "         'today': 309,\n",
       "         'work': 306,\n",
       "         'im': 294,\n",
       "         'back': 294,\n",
       "         'fuck': 293,\n",
       "         'happi': 293,\n",
       "         'photographi': 292,\n",
       "         'game': 282,\n",
       "         'got': 280,\n",
       "         'fun': 277,\n",
       "         'news': 265,\n",
       "         'thank': 263,\n",
       "         'music': 263,\n",
       "         'time': 248,\n",
       "         'make': 247,\n",
       "         'updat': 236,\n",
       "         'smile': 231,\n",
       "         'instagood': 226,\n",
       "         'funni': 223,\n",
       "         'one': 221,\n",
       "         'girl': 220,\n",
       "         'lol': 215,\n",
       "         'fashion': 215,\n",
       "         'itun': 212,\n",
       "         'ipod': 211,\n",
       "         'go': 209,\n",
       "         'birthday': 206,\n",
       "         'tech': 205,\n",
       "         'iphonex': 199,\n",
       "         'ps': 198,\n",
       "         'final': 192,\n",
       "         'photooftheday': 191,\n",
       "         'friend': 191,\n",
       "         'everyon': 189,\n",
       "         'cant': 180,\n",
       "         'good': 180,\n",
       "         'amaz': 178,\n",
       "         'use': 174,\n",
       "         'look': 171,\n",
       "         'fail': 169,\n",
       "         'dont': 168,\n",
       "         'must': 168,\n",
       "         'note': 166,\n",
       "         'want': 165,\n",
       "         'sougofollow': 165,\n",
       "         'selfi': 164,\n",
       "         'mac': 164,\n",
       "         'gift': 163,\n",
       "         'sale': 156,\n",
       "         'hate': 155,\n",
       "         'free': 149,\n",
       "         'babi': 148,\n",
       "         'would': 146,\n",
       "         'iger': 143,\n",
       "         'home': 143,\n",
       "         'year': 141,\n",
       "         'camera': 139,\n",
       "         'famili': 139,\n",
       "         'need': 138,\n",
       "         'iphonesia': 137,\n",
       "         'best': 136,\n",
       "         'smartphon': 134,\n",
       "         'cool': 134,\n",
       "         'art': 132,\n",
       "         'iphoneonli': 129,\n",
       "         'charger': 128,\n",
       "         'everi': 127,\n",
       "         'color': 125,\n",
       "         'suck': 125,\n",
       "         'live': 124,\n",
       "         'christma': 124,\n",
       "         'buy': 124,\n",
       "         'tri': 122,\n",
       "         'health': 120,\n",
       "         'summer': 119,\n",
       "         'picoftheday': 117,\n",
       "         'product': 117,\n",
       "         'thing': 116,\n",
       "         'shop': 115,\n",
       "         'white': 115,\n",
       "         'hour': 113,\n",
       "         'u': 113,\n",
       "         'still': 112,\n",
       "         'mobil': 111,\n",
       "         'minut': 111,\n",
       "         'much': 109,\n",
       "         'say': 109,\n",
       "         'even': 108,\n",
       "         'natur': 107,\n",
       "         'night': 107,\n",
       "         'awesom': 107,\n",
       "         'know': 106,\n",
       "         'come': 105,\n",
       "         'macbook': 105,\n",
       "         'window': 104,\n",
       "         'money': 103,\n",
       "         'screen': 102,\n",
       "         'ff': 102,\n",
       "         'laptop': 102,\n",
       "         'download': 101,\n",
       "         'ever': 101,\n",
       "         'great': 98,\n",
       "         'excit': 98,\n",
       "         'wish': 97,\n",
       "         'sexi': 94,\n",
       "         'wait': 94,\n",
       "         'take': 94,\n",
       "         'motorola': 94,\n",
       "         'delet': 93,\n",
       "         'style': 93,\n",
       "         'accessori': 93,\n",
       "         'store': 91,\n",
       "         'black': 90,\n",
       "         'instamood': 90,\n",
       "         'retweet': 90,\n",
       "         'comput': 89,\n",
       "         'last': 89,\n",
       "         'followm': 89,\n",
       "         'technolog': 88,\n",
       "         'wont': 87,\n",
       "         'nice': 87,\n",
       "         'pink': 86,\n",
       "         'iphone…': 86,\n",
       "         'twitter': 86,\n",
       "         'keep': 85,\n",
       "         'sweet': 85,\n",
       "         'peopl': 85,\n",
       "         'realli': 83,\n",
       "         'ive': 83,\n",
       "         'guy': 83,\n",
       "         'pictur': 82,\n",
       "         'morn': 82,\n",
       "         'charg': 81,\n",
       "         'watch': 81,\n",
       "         'video': 81,\n",
       "         'travel': 81,\n",
       "         'never': 81,\n",
       "         'first': 81,\n",
       "         'us': 80,\n",
       "         'batteri': 80,\n",
       "         'think': 80,\n",
       "         'right': 80,\n",
       "         'old': 80,\n",
       "         'fix': 80,\n",
       "         'via': 79,\n",
       "         'boy': 77,\n",
       "         'play': 77,\n",
       "         'custom': 77,\n",
       "         'give': 76,\n",
       "         'googl': 76,\n",
       "         'playstat': 76,\n",
       "         'job': 75,\n",
       "         'fuckyou': 75,\n",
       "         'everyth': 75,\n",
       "         'kid': 74,\n",
       "         'hey': 73,\n",
       "         'let': 73,\n",
       "         'tv': 73,\n",
       "         'toy': 73,\n",
       "         'made': 72,\n",
       "         'pretti': 72,\n",
       "         'well': 72,\n",
       "         'upgrad': 72,\n",
       "         'anoth': 71,\n",
       "         'dog': 71,\n",
       "         'feel': 71,\n",
       "         'cover': 71,\n",
       "         'pic': 70,\n",
       "         'see': 70,\n",
       "         'blue': 70,\n",
       "         'yay': 69,\n",
       "         'week': 69,\n",
       "         'red': 69,\n",
       "         'doesnt': 69,\n",
       "         'count': 69,\n",
       "         'stupid': 68,\n",
       "         'start': 68,\n",
       "         'text': 68,\n",
       "         'present': 68,\n",
       "         'world': 68,\n",
       "         'offer': 68,\n",
       "         'gadget': 68,\n",
       "         'x': 68,\n",
       "         'sun': 67,\n",
       "         'instadaili': 66,\n",
       "         'check': 66,\n",
       "         'quot': 65,\n",
       "         'nokia': 65,\n",
       "         'headphon': 65,\n",
       "         'big': 64,\n",
       "         'design': 64,\n",
       "         'food': 64,\n",
       "         'deal': 64,\n",
       "         'alway': 63,\n",
       "         'appstor': 63,\n",
       "         'friday': 63,\n",
       "         'date': 63,\n",
       "         'youtub': 62,\n",
       "         'book': 62,\n",
       "         'tl': 62,\n",
       "         'rhyme': 62,\n",
       "         'amazon': 61,\n",
       "         'sunset': 61,\n",
       "         'tablet': 61,\n",
       "         'cat': 61,\n",
       "         'pc': 61,\n",
       "         'xperia': 60,\n",
       "         'song': 60,\n",
       "         'laugh': 59,\n",
       "         'blackberri': 58,\n",
       "         'capetown': 58,\n",
       "         'ig': 58,\n",
       "         'hello': 58,\n",
       "         'bought': 57,\n",
       "         'sunday': 57,\n",
       "         'imag': 57,\n",
       "         'sky': 56,\n",
       "         'holiday': 56,\n",
       "         'lost': 56,\n",
       "         'sinc': 56,\n",
       "         'wow': 56,\n",
       "         'top': 56,\n",
       "         'better': 56,\n",
       "         'instap': 55,\n",
       "         'flower': 55,\n",
       "         'month': 55,\n",
       "         'hot': 55,\n",
       "         'surf': 55,\n",
       "         'followback': 54,\n",
       "         'oh': 54,\n",
       "         'gamer': 54,\n",
       "         'gb': 54,\n",
       "         'facebook': 54,\n",
       "         'way': 53,\n",
       "         'share': 53,\n",
       "         'green': 53,\n",
       "         'put': 53,\n",
       "         'capetownsup': 53,\n",
       "         'sup': 53,\n",
       "         'mine': 53,\n",
       "         'phonecas': 53,\n",
       "         'iphoneographi': 52,\n",
       "         'gold': 52,\n",
       "         'g': 52,\n",
       "         'valentin': 52,\n",
       "         'miss': 52,\n",
       "         'ye': 52,\n",
       "         'heart': 52,\n",
       "         'weekend': 52,\n",
       "         'servic': 51,\n",
       "         'newyear': 51,\n",
       "         'face': 51,\n",
       "         'th': 51,\n",
       "         'help': 51,\n",
       "         'wifi': 50,\n",
       "         'tweegram': 50,\n",
       "         'twitch': 50,\n",
       "         'moment': 50,\n",
       "         'call': 50,\n",
       "         'beach': 50,\n",
       "         'macbookpro': 50,\n",
       "         'find': 50,\n",
       "         'god': 50,\n",
       "         'hard': 49,\n",
       "         'hateappl': 49,\n",
       "         'iphoneplu': 49,\n",
       "         'chang': 49,\n",
       "         'dear': 48,\n",
       "         'parti': 48,\n",
       "         'pleas': 48,\n",
       "         'pay': 47,\n",
       "         'support': 47,\n",
       "         'arriv': 47,\n",
       "         'enjoy': 47,\n",
       "         'didnt': 47,\n",
       "         'yeah': 47,\n",
       "         'user': 46,\n",
       "         'ya': 46,\n",
       "         'littl': 46,\n",
       "         'stop': 46,\n",
       "         'pro': 46,\n",
       "         'show': 46,\n",
       "         'restor': 46,\n",
       "         'listen': 45,\n",
       "         'that': 45,\n",
       "         'problem': 45,\n",
       "         'siri': 45,\n",
       "         'power': 45,\n",
       "         'run': 44,\n",
       "         'came': 44,\n",
       "         'word': 44,\n",
       "         'swag': 44,\n",
       "         'welcom': 44,\n",
       "         'two': 44,\n",
       "         'could': 44,\n",
       "         'man': 44,\n",
       "         'newphon': 44,\n",
       "         'messag': 44,\n",
       "         'light': 43,\n",
       "         'win': 43,\n",
       "         'blog': 43,\n",
       "         'turn': 43,\n",
       "         'tweet': 43,\n",
       "         'likelik': 43,\n",
       "         'may': 43,\n",
       "         'fit': 43,\n",
       "         'plu': 43,\n",
       "         'lock': 43,\n",
       "         'order': 43,\n",
       "         'microsoft': 43,\n",
       "         'busi': 42,\n",
       "         'id': 42,\n",
       "         'devic': 42,\n",
       "         'usa': 42,\n",
       "         'car': 42,\n",
       "         'took': 42,\n",
       "         'avail': 42,\n",
       "         'sonyphoto': 42,\n",
       "         'switch': 42,\n",
       "         'gonna': 42,\n",
       "         'hair': 42,\n",
       "         'att': 42,\n",
       "         'relax': 41,\n",
       "         'crazi': 41,\n",
       "         'reason': 41,\n",
       "         'random': 41,\n",
       "         'alreadi': 41,\n",
       "         'nofilt': 41,\n",
       "         'oneplu': 41,\n",
       "         'insta': 41,\n",
       "         'vsco': 41,\n",
       "         'discount': 41,\n",
       "         '•': 41,\n",
       "         'cabl': 40,\n",
       "         'saturday': 40,\n",
       "         'joy': 40,\n",
       "         'model': 40,\n",
       "         'piss': 40,\n",
       "         'hope': 40,\n",
       "         'serious': 39,\n",
       "         'replac': 39,\n",
       "         'tab': 39,\n",
       "         'w': 39,\n",
       "         'readi': 39,\n",
       "         'bestpric': 39,\n",
       "         'bless': 39,\n",
       "         'tell': 39,\n",
       "         'coupl': 39,\n",
       "         'die': 39,\n",
       "         'done': 38,\n",
       "         'movi': 38,\n",
       "         'broken': 38,\n",
       "         'compani': 38,\n",
       "         'annoy': 38,\n",
       "         'photograph': 38,\n",
       "         'p': 38,\n",
       "         'haha': 38,\n",
       "         'tbt': 38,\n",
       "         'crash': 37,\n",
       "         'coffe': 37,\n",
       "         'imessag': 37,\n",
       "         'contact': 37,\n",
       "         'shit': 37,\n",
       "         'trip': 37,\n",
       "         'piec': 37,\n",
       "         'monday': 36,\n",
       "         'bad': 36,\n",
       "         'yet': 36,\n",
       "         'mom': 36,\n",
       "         'sync': 36,\n",
       "         'enough': 36,\n",
       "         'gay': 36,\n",
       "         'iphonecas': 36,\n",
       "         'break': 36,\n",
       "         'hous': 36,\n",
       "         'noth': 35,\n",
       "         'tree': 35,\n",
       "         'peac': 35,\n",
       "         'stuff': 35,\n",
       "         '—': 35,\n",
       "         'ago': 35,\n",
       "         'drop': 34,\n",
       "         'complet': 34,\n",
       "         'taken': 34,\n",
       "         'earli': 34,\n",
       "         'mani': 34,\n",
       "         'fan': 34,\n",
       "         'actual': 34,\n",
       "         'sleep': 34,\n",
       "         'long': 34,\n",
       "         'soon': 34,\n",
       "         'password': 34,\n",
       "         'next': 34,\n",
       "         'verizon': 34,\n",
       "         'anyon': 34,\n",
       "         'number': 34,\n",
       "         'fresh': 34,\n",
       "         'code': 34,\n",
       "         'decid': 34,\n",
       "         'samsunggalaxi': 33,\n",
       "         'sister': 33,\n",
       "         'spring': 33,\n",
       "         'send': 33,\n",
       "         'real': 33,\n",
       "         'unlock': 33,\n",
       "         'emoji': 33,\n",
       "         'care': 33,\n",
       "         'favorit': 33,\n",
       "         'happen': 33,\n",
       "         'mini': 33,\n",
       "         'someon': 32,\n",
       "         'instago': 32,\n",
       "         'chill': 32,\n",
       "         'teamfollowback': 32,\n",
       "         'someth': 32,\n",
       "         'featur': 32,\n",
       "         'galaxynot': 32,\n",
       "         'colleg': 32,\n",
       "         'sad': 32,\n",
       "         'k': 32,\n",
       "         'worst': 32,\n",
       "         'market': 31,\n",
       "         'set': 31,\n",
       "         'end': 31,\n",
       "         'singl': 31,\n",
       "         'portrait': 31,\n",
       "         'husband': 31,\n",
       "         'fast': 31,\n",
       "         'geek': 31,\n",
       "         'steemit': 31,\n",
       "         'london': 31,\n",
       "         'sony…': 31,\n",
       "         'anyth': 31,\n",
       "         'water': 30,\n",
       "         'email': 30,\n",
       "         'cloud': 30,\n",
       "         'followsunday': 30,\n",
       "         'perfect': 30,\n",
       "         'nyc': 30,\n",
       "         'learn': 30,\n",
       "         'healthi': 30,\n",
       "         'gratitud': 30,\n",
       "         'decor': 30,\n",
       "         'steve': 30,\n",
       "         'ill': 30,\n",
       "         'releas': 30,\n",
       "         'brand': 30,\n",
       "         'softwar': 29,\n",
       "         'button': 29,\n",
       "         'broke': 29,\n",
       "         'xbox': 29,\n",
       "         'school': 29,\n",
       "         'wonder': 29,\n",
       "         'fruit': 29,\n",
       "         'kindl': 29,\n",
       "         'air': 29,\n",
       "         'sonylen': 29,\n",
       "         'sonyphotographi': 29,\n",
       "         'sound': 29,\n",
       "         'kiss': 29,\n",
       "         'anim': 29,\n",
       "         'c': 28,\n",
       "         'wed': 28,\n",
       "         'z': 28,\n",
       "         'drink': 28,\n",
       "         'tomorrow': 28,\n",
       "         'dad': 28,\n",
       "         'beat': 28,\n",
       "         'puppi': 28,\n",
       "         'gone': 28,\n",
       "         'thailand': 28,\n",
       "         'sure': 28,\n",
       "         'talk': 27,\n",
       "         'connect': 27,\n",
       "         'bestfriend': 27,\n",
       "         'pop': 27,\n",
       "         'card': 27,\n",
       "         'ad': 27,\n",
       "         'version': 27,\n",
       "         'popular': 27,\n",
       "         'os': 27,\n",
       "         'stori': 27,\n",
       "         'dream': 27,\n",
       "         'cellphon': 27,\n",
       "         'florida': 27,\n",
       "         'lg': 27,\n",
       "         'without': 27,\n",
       "         'crap': 27,\n",
       "         'андроид': 27,\n",
       "         'map': 27,\n",
       "         'inspir': 27,\n",
       "         'cake': 27,\n",
       "         'instalov': 27,\n",
       "         'also': 27,\n",
       "         'said': 27,\n",
       "         'flash': 27,\n",
       "         'crack': 27,\n",
       "         'ok': 27,\n",
       "         'relationship': 27,\n",
       "         'pet': 26,\n",
       "         'brother': 26,\n",
       "         'daughter': 26,\n",
       "         'b': 26,\n",
       "         'read': 26,\n",
       "         'smart': 26,\n",
       "         'imac': 26,\n",
       "         'itali': 26,\n",
       "         'away': 26,\n",
       "         'ebay': 26,\n",
       "         'igdaili': 26,\n",
       "         'ugh': 26,\n",
       "         'instalik': 26,\n",
       "         'ask': 26,\n",
       "         'ilc': 26,\n",
       "         'pm': 26,\n",
       "         'uk': 25,\n",
       "         'eye': 25,\n",
       "         'film': 25,\n",
       "         'less': 25,\n",
       "         'memori': 25,\n",
       "         'gear': 25,\n",
       "         'whole': 25,\n",
       "         'garden': 25,\n",
       "         'super': 25,\n",
       "         'luxuri': 25,\n",
       "         'vocat': 25,\n",
       "         'khaoko': 25,\n",
       "         'htc': 25,\n",
       "         'psn': 25,\n",
       "         'post': 25,\n",
       "         'isnt': 25,\n",
       "         'purchas': 24,\n",
       "         'pie': 24,\n",
       "         'wallpap': 24,\n",
       "         'instahub': 24,\n",
       "         'differ': 24,\n",
       "         'newyork': 24,\n",
       "         'shoot': 24,\n",
       "         '–': 24,\n",
       "         'lifestyl': 24,\n",
       "         'hand': 24,\n",
       "         'instagood…': 24,\n",
       "         'jj': 24,\n",
       "         'there': 24,\n",
       "         'citi': 24,\n",
       "         'instal': 24,\n",
       "         'unitedst': 24,\n",
       "         'guitarplay': 24,\n",
       "         'mother': 24,\n",
       "         'india': 24,\n",
       "         'japan': 24,\n",
       "         'yesterday': 24,\n",
       "         'rain': 24,\n",
       "         'applewatch': 24,\n",
       "         'save': 24,\n",
       "         'idea': 24,\n",
       "         'leav': 24,\n",
       "         'mirror': 24,\n",
       "         'line': 24,\n",
       "         'entrepreneur': 24,\n",
       "         'xperiaz': 23,\n",
       "         'inch': 23,\n",
       "         'kill': 23,\n",
       "         'blackandwhit': 23,\n",
       "         'instacool': 23,\n",
       "         '£': 23,\n",
       "         'sport': 23,\n",
       "         'rock': 23,\n",
       "         'price': 23,\n",
       "         'full': 23,\n",
       "         'bestoftheday': 23,\n",
       "         'shotoniphon': 23,\n",
       "         'though': 23,\n",
       "         'makeup': 23,\n",
       "         'addict': 23,\n",
       "         'samsung…': 23,\n",
       "         'edit': 23,\n",
       "         'total': 23,\n",
       "         'photofe': 23,\n",
       "         'reallyr': 23,\n",
       "         'ador': 23,\n",
       "         'woman': 23,\n",
       "         'charm': 23,\n",
       "         'tshirt': 23,\n",
       "         'wtf': 23,\n",
       "         'snapspeed…': 23,\n",
       "         'lot': 23,\n",
       "         'click': 23,\n",
       "         'e': 23,\n",
       "         'fact': 22,\n",
       "         'goe': 22,\n",
       "         'receiv': 22,\n",
       "         'person': 22,\n",
       "         'keyboard': 22,\n",
       "         'usb': 22,\n",
       "         'icloud': 22,\n",
       "         'small': 22,\n",
       "         'orang': 22,\n",
       "         'true': 22,\n",
       "         'jun': 22,\n",
       "         'caus': 22,\n",
       "         'nike': 22,\n",
       "         'r': 22,\n",
       "         'went': 22,\n",
       "         'proud': 22,\n",
       "         'exquisit': 22,\n",
       "         'squishi': 22,\n",
       "         'strap': 22,\n",
       "         'human': 22,\n",
       "         'ly': 22,\n",
       "         'tonight': 22,\n",
       "         'danc': 22,\n",
       "         'facetim': 22,\n",
       "         'lose': 21,\n",
       "         'ootd': 21,\n",
       "         'bit': 21,\n",
       "         'thought': 21,\n",
       "         'repair': 21,\n",
       "         'liter': 21,\n",
       "         'tattoo': 21,\n",
       "         'chocol': 21,\n",
       "         'might': 21,\n",
       "         'bring': 21,\n",
       "         'boyfriend': 21,\n",
       "         'almost': 21,\n",
       "         'repost': 21,\n",
       "         'dj': 21,\n",
       "         'tuesday': 21,\n",
       "         'forev': 21,\n",
       "         'togeth': 21,\n",
       "         'street': 21,\n",
       "         'likeforlik': 20,\n",
       "         'dead': 20,\n",
       "         'truth': 20,\n",
       "         'ur': 20,\n",
       "         'hashtag': 20,\n",
       "         'ipadmini': 20,\n",
       "         'magic': 20,\n",
       "         'tmobil': 20,\n",
       "         'ship': 20,\n",
       "         'open': 20,\n",
       "         'prophet': 20,\n",
       "         'sick': 20,\n",
       "         'account': 20,\n",
       "         'drive': 20,\n",
       "         'len': 20,\n",
       "         'feed': 20,\n",
       "         'your': 20,\n",
       "         'els': 20,\n",
       "         'load': 20,\n",
       "         'link': 20,\n",
       "         'videogam': 20,\n",
       "         'data': 20,\n",
       "         'redbubbl': 20,\n",
       "         'what': 20,\n",
       "         'slow': 20,\n",
       "         'eat': 20,\n",
       "         'thankyou': 20,\n",
       "         'latest': 20,\n",
       "         'consol': 20,\n",
       "         'believ': 20,\n",
       "         'xma': 20,\n",
       "         'bore': 20,\n",
       "         'daddi': 20,\n",
       "         'type': 19,\n",
       "         'mess': 19,\n",
       "         'havent': 19,\n",
       "         'touch': 19,\n",
       "         'freak': 19,\n",
       "         'creativ': 19,\n",
       "         'it’': 19,\n",
       "         'wrong': 19,\n",
       "         'poem': 19,\n",
       "         'n': 19,\n",
       "         'min': 19,\n",
       "         'second': 19,\n",
       "         'fall': 19,\n",
       "         'past': 19,\n",
       "         'half': 19,\n",
       "         'simpl': 19,\n",
       "         'mm': 19,\n",
       "         'visit': 19,\n",
       "         'goodnight': 19,\n",
       "         'pick': 19,\n",
       "         'april': 19,\n",
       "         'futur': 19,\n",
       "         'shitti': 19,\n",
       "         'tag': 19,\n",
       "         'mean': 19,\n",
       "         'room': 19,\n",
       "         'men': 19,\n",
       "         'skin': 19,\n",
       "         'artist': 19,\n",
       "         'winter': 19,\n",
       "         'foodporn': 19,\n",
       "         'guess': 19,\n",
       "         'canon': 19,\n",
       "         'yummi': 19,\n",
       "         'photobooth': 19,\n",
       "         'patent': 18,\n",
       "         'cut': 18,\n",
       "         'indonesia': 18,\n",
       "         'sorri': 18,\n",
       "         'issu': 18,\n",
       "         'box': 18,\n",
       "         'bug': 18,\n",
       "         'fml': 18,\n",
       "         'offici': 18,\n",
       "         'sonyalpha': 18,\n",
       "         'high': 18,\n",
       "         'calendar': 18,\n",
       "         'team': 18,\n",
       "         'roll': 18,\n",
       "         'experi': 18,\n",
       "         'edg': 18,\n",
       "         'hd': 18,\n",
       "         'uniqu': 18,\n",
       "         'mind': 18,\n",
       "         'miami': 18,\n",
       "         'glad': 18,\n",
       "         'sea': 18,\n",
       "         'stay': 18,\n",
       "         'trend': 18,\n",
       "         'soror': 18,\n",
       "         'move': 18,\n",
       "         'wall': 17,\n",
       "         'daili': 17,\n",
       "         'vlog': 17,\n",
       "         'stand': 17,\n",
       "         'blackfriday': 17,\n",
       "         'reset': 17,\n",
       "         'special': 17,\n",
       "         'mood': 17,\n",
       "         'vaio': 17,\n",
       "         'throw': 17,\n",
       "         'passion': 17,\n",
       "         'sprint': 17,\n",
       "         'space': 17,\n",
       "         'hold': 17,\n",
       "         'freez': 17,\n",
       "         'mad': 17,\n",
       "         'purpos': 17,\n",
       "         'delici': 17,\n",
       "         'far': 17,\n",
       "         'al': 17,\n",
       "         'june': 17,\n",
       "         'canada': 17,\n",
       "         'sent': 17,\n",
       "         'captur': 17,\n",
       "         'march': 17,\n",
       "         'wipe': 17,\n",
       "         'wast': 17,\n",
       "         'zeeland': 17,\n",
       "         'nikon': 17,\n",
       "         'applesuck': 17,\n",
       "         'king': 17,\n",
       "         'trump': 17,\n",
       "         'california': 17,\n",
       "         'surpris': 17,\n",
       "         'protect': 17,\n",
       "         'novemb': 17,\n",
       "         'adventur': 17,\n",
       "         'digit': 17,\n",
       "         'internet': 17,\n",
       "         'stream': 17,\n",
       "         'rose': 17,\n",
       "         'develop': 17,\n",
       "         'outdoor': 16,\n",
       "         'creat': 16,\n",
       "         'landscap': 16,\n",
       "         'bright': 16,\n",
       "         'origin': 16,\n",
       "         'soul': 16,\n",
       "         'abl': 16,\n",
       "         'earphon': 16,\n",
       "         'banana': 16,\n",
       "         'spend': 16,\n",
       "         'stevejob': 16,\n",
       "         'least': 16,\n",
       "         'draw': 16,\n",
       "         'ny': 16,\n",
       "         'angri': 16,\n",
       "         'bird': 16,\n",
       "         'gorgeou': 16,\n",
       "         'dress': 16,\n",
       "         'manag': 16,\n",
       "         'wanna': 16,\n",
       "         'europ': 16,\n",
       "         'fish': 16,\n",
       "         'hateiphon': 16,\n",
       "         'inlov': 16,\n",
       "         'lte': 16,\n",
       "         'storag': 16,\n",
       "         'blond': 16,\n",
       "         'meet': 16,\n",
       "         'motiv': 16,\n",
       "         'sunni': 16,\n",
       "         'left': 16,\n",
       "         'walk': 16,\n",
       "         'v': 16,\n",
       "         'onlin': 16,\n",
       "         'fb': 16,\n",
       "         'colour': 16,\n",
       "         'hack': 16,\n",
       "         'snow': 16,\n",
       "         'join': 16,\n",
       "         'seem': 15,\n",
       "         'goal': 15,\n",
       "         'produc': 15,\n",
       "         'program': 15,\n",
       "         'univers': 15,\n",
       "         'yum': 15,\n",
       "         'shot': 15,\n",
       "         'children': 15,\n",
       "         'uae': 15,\n",
       "         'purpl': 15,\n",
       "         'mommi': 15,\n",
       "         'sell': 15,\n",
       "         'pari': 15,\n",
       "         'silver': 15,\n",
       "         'provid': 15,\n",
       "         'track': 15,\n",
       "         'photoshoot': 15,\n",
       "         'newtoy': 15,\n",
       "         'gener': 15,\n",
       "         'screw': 15,\n",
       "         'cook': 15,\n",
       "         'bye': 15,\n",
       "         'wireless': 15,\n",
       "         'part': 15,\n",
       "         'gotta': 15,\n",
       "         'explor': 15,\n",
       "         'followfollow': 15,\n",
       "         'f': 15,\n",
       "         'found': 15,\n",
       "         'longer': 15,\n",
       "         'celebr': 15,\n",
       "         'gave': 15,\n",
       "         'plan': 15,\n",
       "         'vintag': 15,\n",
       "         'later': 15,\n",
       "         'januari': 15,\n",
       "         'apple…': 15,\n",
       "         'gs': 15,\n",
       "         'question': 14,\n",
       "         'wife': 14,\n",
       "         'subscrib': 14,\n",
       "         'america': 14,\n",
       "         'bday': 14,\n",
       "         'bull': 14,\n",
       "         'ladi': 14,\n",
       "         'droid': 14,\n",
       "         'iphonephotographi': 14,\n",
       "         'singer': 14,\n",
       "         'i’m': 14,\n",
       "         'qualiti': 14,\n",
       "         'mode': 14,\n",
       "         'park': 14,\n",
       "         'rid': 14,\n",
       "         'level': 14,\n",
       "         'babe': 14,\n",
       "         'cold': 14,\n",
       "         'cri': 14,\n",
       "         'display': 14,\n",
       "         'okay': 14,\n",
       "         'valentinesday': 14,\n",
       "         'februari': 14,\n",
       "         'hi': 14,\n",
       "         'instaphoto': 14,\n",
       "         'middl': 14,\n",
       "         'info': 14,\n",
       "         'playlist': 14,\n",
       "         'bot': 14,\n",
       "         'event': 14,\n",
       "         'wouldnt': 14,\n",
       "         'speaker': 14,\n",
       "         'answer': 14,\n",
       "         'block': 14,\n",
       "         'finger': 14,\n",
       "         'anymor': 14,\n",
       "         'cell': 14,\n",
       "         'sticker': 14,\n",
       "         'vscocam': 14,\n",
       "         'librari': 14,\n",
       "         'tire': 14,\n",
       "         'electron': 14,\n",
       "         'useless': 14,\n",
       "         'starbuck': 14,\n",
       "         'dinner': 14,\n",
       "         'spent': 14,\n",
       "         'vacat': 14,\n",
       "         'social': 14,\n",
       "         'tip': 14,\n",
       "         'merri': 14,\n",
       "         'collect': 14,\n",
       "         'stuck': 14,\n",
       "         'blow': 14,\n",
       "         'blogger': 14,\n",
       "         'choos': 14,\n",
       "         'network': 14,\n",
       "         'innov': 14,\n",
       "         'asshol': 14,\n",
       "         'offic': 14,\n",
       "         'self': 14,\n",
       "         'current': 14,\n",
       "         'ink': 14,\n",
       "         'aliusaexpress': 14,\n",
       "         'mi': 14,\n",
       "         'bed': 14,\n",
       "         'goodby': 14,\n",
       "         'breakfast': 14,\n",
       "         'shoppinglist': 14,\n",
       "         'xd': 14,\n",
       "         'dessert': 14,\n",
       "         'led': 14,\n",
       "         'agre': 13,\n",
       "         'million': 13,\n",
       "         'view': 13,\n",
       "         'sonya': 13,\n",
       "         'cd': 13,\n",
       "         'nowplay': 13,\n",
       "         'sign': 13,\n",
       "         'educ': 13,\n",
       "         'bar': 13,\n",
       "         'key': 13,\n",
       "         'told': 13,\n",
       "         'three': 13,\n",
       "         'zoom': 13,\n",
       "         'close': 13,\n",
       "         'system': 13,\n",
       "         'goodmorn': 13,\n",
       "         'smoke': 13,\n",
       "         'bro': 13,\n",
       "         'thx': 13,\n",
       "         'jailbreak': 13,\n",
       "         'stock': 13,\n",
       "         'bc': 13,\n",
       "         'applestor': 13,\n",
       "         'wasnt': 13,\n",
       "         'da': 13,\n",
       "         'appletv': 13,\n",
       "         'bluetooth': 13,\n",
       "         'samsungmobil': 13,\n",
       "         'rs': 13,\n",
       "         'piano': 13,\n",
       "         'treat': 13,\n",
       "         'tagsforlik': 13,\n",
       "         'planet': 13,\n",
       "         'secur': 13,\n",
       "         'becom': 13,\n",
       "         'nail': 13,\n",
       "         'bitch': 13,\n",
       "         'sing': 13,\n",
       "         'till': 13,\n",
       "         'wors': 13,\n",
       "         'review': 13,\n",
       "         'mail': 13,\n",
       "         'webstagram': 13,\n",
       "         'ear': 13,\n",
       "         'forgot': 13,\n",
       "         'fire': 13,\n",
       "         'spoil': 13,\n",
       "         'huge': 13,\n",
       "         'weather': 13,\n",
       "         'place': 13,\n",
       "         'applesupport': 13,\n",
       "         'kind': 13,\n",
       "         'spotifi': 13,\n",
       "         'followtrick': 13,\n",
       "         'error': 13,\n",
       "         'launch': 13,\n",
       "         'minion': 13,\n",
       "         'mp': 13,\n",
       "         'test': 12,\n",
       "         'easter': 12,\n",
       "         ...})"
      ]
     },
     "execution_count": 33,
     "metadata": {},
     "output_type": "execute_result"
    }
   ],
   "source": [
    "vocab"
   ]
  },
  {
   "cell_type": "code",
   "execution_count": 34,
   "id": "6d8f49b5",
   "metadata": {},
   "outputs": [
    {
     "data": {
      "text/plain": [
       "15949"
      ]
     },
     "execution_count": 34,
     "metadata": {},
     "output_type": "execute_result"
    }
   ],
   "source": [
    "len(vocab)"
   ]
  },
  {
   "cell_type": "code",
   "execution_count": 35,
   "id": "5a1a6fcd",
   "metadata": {},
   "outputs": [],
   "source": [
    "tokens=[key for key in vocab if vocab[key]>10]"
   ]
  },
  {
   "cell_type": "code",
   "execution_count": 36,
   "id": "9993096b",
   "metadata": {},
   "outputs": [
    {
     "data": {
      "text/plain": [
       "1145"
      ]
     },
     "execution_count": 36,
     "metadata": {},
     "output_type": "execute_result"
    }
   ],
   "source": [
    "len(tokens)"
   ]
  },
  {
   "cell_type": "code",
   "execution_count": 37,
   "id": "da222174",
   "metadata": {},
   "outputs": [],
   "source": [
    "def save_vocabulary(lines, filename):\n",
    "    data = '\\n'.join(lines)\n",
    "    file = open(filename, 'w', encoding=\"utf-8\")\n",
    "    file.write(data)\n",
    "    file.close()\n",
    "\n",
    "save_vocabulary(tokens, '../static/model/vocabulary.txt')"
   ]
  },
  {
   "cell_type": "markdown",
   "id": "f3cb02fa",
   "metadata": {},
   "source": [
    "## Devide dataset to train and test"
   ]
  },
  {
   "cell_type": "code",
   "execution_count": 38,
   "id": "87ad1cb2",
   "metadata": {},
   "outputs": [
    {
     "data": {
      "text/html": [
       "<div>\n",
       "<style scoped>\n",
       "    .dataframe tbody tr th:only-of-type {\n",
       "        vertical-align: middle;\n",
       "    }\n",
       "\n",
       "    .dataframe tbody tr th {\n",
       "        vertical-align: top;\n",
       "    }\n",
       "\n",
       "    .dataframe thead th {\n",
       "        text-align: right;\n",
       "    }\n",
       "</style>\n",
       "<table border=\"1\" class=\"dataframe\">\n",
       "  <thead>\n",
       "    <tr style=\"text-align: right;\">\n",
       "      <th></th>\n",
       "      <th>id</th>\n",
       "      <th>label</th>\n",
       "      <th>tweet</th>\n",
       "    </tr>\n",
       "  </thead>\n",
       "  <tbody>\n",
       "    <tr>\n",
       "      <th>0</th>\n",
       "      <td>1</td>\n",
       "      <td>0</td>\n",
       "      <td>fingerprint pregnanc test android app beauti c...</td>\n",
       "    </tr>\n",
       "    <tr>\n",
       "      <th>1</th>\n",
       "      <td>2</td>\n",
       "      <td>0</td>\n",
       "      <td>final transpar silicon case thank uncl yay son...</td>\n",
       "    </tr>\n",
       "    <tr>\n",
       "      <th>2</th>\n",
       "      <td>3</td>\n",
       "      <td>0</td>\n",
       "      <td>love would go talk makememori unplug relax iph...</td>\n",
       "    </tr>\n",
       "    <tr>\n",
       "      <th>3</th>\n",
       "      <td>4</td>\n",
       "      <td>0</td>\n",
       "      <td>im wire know im georg made way iphon cute dave...</td>\n",
       "    </tr>\n",
       "    <tr>\n",
       "      <th>4</th>\n",
       "      <td>5</td>\n",
       "      <td>1</td>\n",
       "      <td>amaz servic appl wont even talk question unles...</td>\n",
       "    </tr>\n",
       "  </tbody>\n",
       "</table>\n",
       "</div>"
      ],
      "text/plain": [
       "   id  label                                              tweet\n",
       "0   1      0  fingerprint pregnanc test android app beauti c...\n",
       "1   2      0  final transpar silicon case thank uncl yay son...\n",
       "2   3      0  love would go talk makememori unplug relax iph...\n",
       "3   4      0  im wire know im georg made way iphon cute dave...\n",
       "4   5      1  amaz servic appl wont even talk question unles..."
      ]
     },
     "execution_count": 38,
     "metadata": {},
     "output_type": "execute_result"
    }
   ],
   "source": [
    "data.head()"
   ]
  },
  {
   "cell_type": "code",
   "execution_count": 39,
   "id": "9abf1762",
   "metadata": {},
   "outputs": [],
   "source": [
    "x=data['tweet']"
   ]
  },
  {
   "cell_type": "code",
   "execution_count": 40,
   "id": "e06bbe8e",
   "metadata": {},
   "outputs": [],
   "source": [
    "y=data['label']"
   ]
  },
  {
   "cell_type": "code",
   "execution_count": 41,
   "id": "a08b9586",
   "metadata": {},
   "outputs": [
    {
     "name": "stdout",
     "output_type": "stream",
     "text": [
      "Requirement already satisfied: scikit-learn in d:\\programming\\python\\machine learning\\projects\\sentiment_analysis\\env\\lib\\site-packages (1.2.2)\n",
      "Requirement already satisfied: numpy>=1.17.3 in d:\\programming\\python\\machine learning\\projects\\sentiment_analysis\\env\\lib\\site-packages (from scikit-learn) (1.24.3)\n",
      "Requirement already satisfied: scipy>=1.3.2 in d:\\programming\\python\\machine learning\\projects\\sentiment_analysis\\env\\lib\\site-packages (from scikit-learn) (1.10.1)\n",
      "Requirement already satisfied: joblib>=1.1.1 in d:\\programming\\python\\machine learning\\projects\\sentiment_analysis\\env\\lib\\site-packages (from scikit-learn) (1.2.0)\n",
      "Requirement already satisfied: threadpoolctl>=2.0.0 in d:\\programming\\python\\machine learning\\projects\\sentiment_analysis\\env\\lib\\site-packages (from scikit-learn) (3.1.0)\n"
     ]
    },
    {
     "name": "stderr",
     "output_type": "stream",
     "text": [
      "\n",
      "[notice] A new release of pip is available: 23.0 -> 23.1.2\n",
      "[notice] To update, run: python.exe -m pip install --upgrade pip\n"
     ]
    }
   ],
   "source": [
    "!pip install scikit-learn"
   ]
  },
  {
   "cell_type": "code",
   "execution_count": 42,
   "id": "6ba9a40a",
   "metadata": {},
   "outputs": [],
   "source": [
    "from sklearn.model_selection import train_test_split"
   ]
  },
  {
   "cell_type": "code",
   "execution_count": 43,
   "id": "3b6b9fee",
   "metadata": {},
   "outputs": [],
   "source": [
    "xtrain,xtest,ytrain,ytest=train_test_split(x,y,test_size=0.2)"
   ]
  },
  {
   "cell_type": "markdown",
   "id": "4c7aebe6",
   "metadata": {},
   "source": [
    "## Vectorization"
   ]
  },
  {
   "cell_type": "code",
   "execution_count": 44,
   "id": "2539daa2",
   "metadata": {},
   "outputs": [],
   "source": [
    "def vectorizer(ds, vocabulary):\n",
    "    vectorized_lst = []\n",
    "    \n",
    "    for sentence in ds:\n",
    "        sentence_lst = np.zeros(len(vocabulary))\n",
    "        \n",
    "        for i in range(len(vocabulary)):\n",
    "            if vocabulary[i] in sentence.split():\n",
    "                sentence_lst[i] = 1\n",
    "                \n",
    "        vectorized_lst.append(sentence_lst)\n",
    "        \n",
    "    vectorized_lst_new = np.asarray(vectorized_lst, dtype=np.float32)\n",
    "    \n",
    "    return vectorized_lst_new"
   ]
  },
  {
   "cell_type": "code",
   "execution_count": 45,
   "id": "efbb685f",
   "metadata": {},
   "outputs": [],
   "source": [
    "xtrain_vectorized_list=vectorizer(xtrain,tokens)"
   ]
  },
  {
   "cell_type": "code",
   "execution_count": 46,
   "id": "3b539c58",
   "metadata": {},
   "outputs": [
    {
     "data": {
      "text/plain": [
       "array([[0., 0., 0., ..., 0., 0., 0.],\n",
       "       [0., 0., 0., ..., 0., 0., 0.],\n",
       "       [0., 0., 0., ..., 0., 0., 0.],\n",
       "       ...,\n",
       "       [0., 0., 0., ..., 0., 0., 0.],\n",
       "       [0., 0., 0., ..., 0., 0., 0.],\n",
       "       [0., 0., 0., ..., 0., 0., 0.]], dtype=float32)"
      ]
     },
     "execution_count": 46,
     "metadata": {},
     "output_type": "execute_result"
    }
   ],
   "source": [
    "xtrain_vectorized_list"
   ]
  },
  {
   "cell_type": "code",
   "execution_count": 47,
   "id": "e2ebd677",
   "metadata": {},
   "outputs": [],
   "source": [
    "xtest_vectorized_list=vectorizer(xtest,tokens)"
   ]
  },
  {
   "cell_type": "code",
   "execution_count": 48,
   "id": "57e40dc6",
   "metadata": {},
   "outputs": [
    {
     "data": {
      "text/plain": [
       "array([[0., 0., 0., ..., 0., 0., 0.],\n",
       "       [0., 0., 0., ..., 0., 0., 0.],\n",
       "       [0., 0., 0., ..., 0., 0., 0.],\n",
       "       ...,\n",
       "       [0., 0., 0., ..., 0., 0., 0.],\n",
       "       [0., 0., 0., ..., 0., 0., 0.],\n",
       "       [0., 0., 0., ..., 0., 0., 0.]], dtype=float32)"
      ]
     },
     "execution_count": 48,
     "metadata": {},
     "output_type": "execute_result"
    }
   ],
   "source": [
    "xtest_vectorized_list"
   ]
  },
  {
   "cell_type": "code",
   "execution_count": 49,
   "id": "cdda48a8",
   "metadata": {},
   "outputs": [
    {
     "data": {
      "text/plain": [
       "label\n",
       "0    4716\n",
       "1    1620\n",
       "Name: count, dtype: int64"
      ]
     },
     "execution_count": 49,
     "metadata": {},
     "output_type": "execute_result"
    }
   ],
   "source": [
    "ytrain.value_counts()"
   ]
  },
  {
   "cell_type": "code",
   "execution_count": 50,
   "id": "7b3e958e",
   "metadata": {},
   "outputs": [
    {
     "data": {
      "image/png": "[encoded data removed]",
      "text/plain": [
       "<Figure size 640x480 with 1 Axes>"
      ]
     },
     "metadata": {},
     "output_type": "display_data"
    }
   ],
   "source": [
    "plt.pie(np.array([ytrain.value_counts()[0], ytrain.value_counts()[1]]), labels=['Positive', 'Negative'])\n",
    "plt.show()"
   ]
  },
  {
   "cell_type": "code",
   "execution_count": 51,
   "id": "1797277e",
   "metadata": {},
   "outputs": [
    {
     "name": "stdout",
     "output_type": "stream",
     "text": [
      "Requirement already satisfied: imbalanced-learn in d:\\programming\\python\\machine learning\\projects\\sentiment_analysis\\env\\lib\\site-packages (0.10.1)\n",
      "Requirement already satisfied: numpy>=1.17.3 in d:\\programming\\python\\machine learning\\projects\\sentiment_analysis\\env\\lib\\site-packages (from imbalanced-learn) (1.24.3)\n",
      "Requirement already satisfied: scipy>=1.3.2 in d:\\programming\\python\\machine learning\\projects\\sentiment_analysis\\env\\lib\\site-packages (from imbalanced-learn) (1.10.1)\n",
      "Requirement already satisfied: scikit-learn>=1.0.2 in d:\\programming\\python\\machine learning\\projects\\sentiment_analysis\\env\\lib\\site-packages (from imbalanced-learn) (1.2.2)\n",
      "Requirement already satisfied: joblib>=1.1.1 in d:\\programming\\python\\machine learning\\projects\\sentiment_analysis\\env\\lib\\site-packages (from imbalanced-learn) (1.2.0)\n",
      "Requirement already satisfied: threadpoolctl>=2.0.0 in d:\\programming\\python\\machine learning\\projects\\sentiment_analysis\\env\\lib\\site-packages (from imbalanced-learn) (3.1.0)\n"
     ]
    },
    {
     "name": "stderr",
     "output_type": "stream",
     "text": [
      "\n",
      "[notice] A new release of pip is available: 23.0 -> 23.1.2\n",
      "[notice] To update, run: python.exe -m pip install --upgrade pip\n"
     ]
    }
   ],
   "source": [
    "!pip install imbalanced-learn"
   ]
  },
  {
   "cell_type": "code",
   "execution_count": 52,
   "id": "b0bad309",
   "metadata": {},
   "outputs": [
    {
     "name": "stdout",
     "output_type": "stream",
     "text": [
      "(9432, 1145) (9432,)\n"
     ]
    }
   ],
   "source": [
    "from imblearn.over_sampling import SMOTE\n",
    "smote = SMOTE()\n",
    "vectorized_x_train_smote, y_train_smote = smote.fit_resample(xtrain_vectorized_list, ytrain)\n",
    "print(vectorized_x_train_smote.shape, y_train_smote.shape)"
   ]
  },
  {
   "cell_type": "code",
   "execution_count": 53,
   "id": "9e0d6045",
   "metadata": {},
   "outputs": [
    {
     "data": {
      "text/plain": [
       "label\n",
       "0    4716\n",
       "1    4716\n",
       "Name: count, dtype: int64"
      ]
     },
     "execution_count": 53,
     "metadata": {},
     "output_type": "execute_result"
    }
   ],
   "source": [
    "y_train_smote.value_counts()"
   ]
  },
  {
   "cell_type": "code",
   "execution_count": 54,
   "id": "7fb00888",
   "metadata": {},
   "outputs": [
    {
     "data": {
      "image/png": "[encoded data removed]",
      "text/plain": [
       "<Figure size 640x480 with 1 Axes>"
      ]
     },
     "metadata": {},
     "output_type": "display_data"
    }
   ],
   "source": [
    "plt.pie(np.array([y_train_smote.value_counts()[0], y_train_smote.value_counts()[1]]), labels=['Positive', 'Negative'])\n",
    "plt.show()"
   ]
  },
  {
   "cell_type": "markdown",
   "id": "79ec710b",
   "metadata": {},
   "source": [
    "##  Model Training Evaluation"
   ]
  },
  {
   "cell_type": "code",
   "execution_count": 58,
   "id": "4769c645",
   "metadata": {},
   "outputs": [],
   "source": [
    "from sklearn.linear_model import LogisticRegression\n",
    "from sklearn.naive_bayes import MultinomialNB\n",
    "from sklearn.tree import DecisionTreeClassifier\n",
    "from sklearn.ensemble import RandomForestClassifier\n",
    "from sklearn.svm import SVC"
   ]
  },
  {
   "cell_type": "code",
   "execution_count": 59,
   "id": "8d7e515b",
   "metadata": {},
   "outputs": [],
   "source": [
    "from sklearn.metrics import accuracy_score, f1_score, precision_score, recall_score\n",
    "\n",
    "def training_scores(y_act, y_pred):\n",
    "    acc = round(accuracy_score(y_act, y_pred), 3)\n",
    "    pr = round(precision_score(y_act, y_pred), 3)\n",
    "    rec = round(recall_score(y_act, y_pred), 3)\n",
    "    f1 = round(f1_score(y_act, y_pred), 3)\n",
    "    print(f'Training Scores:\\n\\tAccuracy = {acc}\\n\\tPrecision = {pr}\\n\\tRecall = {rec}\\n\\tF1-Score = {f1}')\n",
    "    \n",
    "def validation_scores(y_act, y_pred):\n",
    "    acc = round(accuracy_score(y_act, y_pred), 3)\n",
    "    pr = round(precision_score(y_act, y_pred), 3)\n",
    "    rec = round(recall_score(y_act, y_pred), 3)\n",
    "    f1 = round(f1_score(y_act, y_pred), 3)\n",
    "    print(f'Testing Scores:\\n\\tAccuracy = {acc}\\n\\tPrecision = {pr}\\n\\tRecall = {rec}\\n\\tF1-Score = {f1}')"
   ]
  },
  {
   "cell_type": "markdown",
   "id": "049d701d",
   "metadata": {},
   "source": [
    "## Logistic Regression"
   ]
  },
  {
   "cell_type": "code",
   "execution_count": 62,
   "id": "6c34b984",
   "metadata": {},
   "outputs": [
    {
     "name": "stdout",
     "output_type": "stream",
     "text": [
      "Training Scores:\n",
      "\tAccuracy = 0.937\n",
      "\tPrecision = 0.915\n",
      "\tRecall = 0.963\n",
      "\tF1-Score = 0.939\n",
      "Testing Scores:\n",
      "\tAccuracy = 0.878\n",
      "\tPrecision = 0.717\n",
      "\tRecall = 0.862\n",
      "\tF1-Score = 0.783\n"
     ]
    }
   ],
   "source": [
    "lr = LogisticRegression()\n",
    "lr.fit(vectorized_x_train_smote, y_train_smote)\n",
    "\n",
    "y_train_pred = lr.predict(vectorized_x_train_smote)\n",
    "\n",
    "y_test_pred = lr.predict(xtest_vectorized_list)\n",
    "\n",
    "training_scores(y_train_smote, y_train_pred)\n",
    "\n",
    "validation_scores(ytest, y_test_pred)"
   ]
  },
  {
   "cell_type": "markdown",
   "id": "c29657be",
   "metadata": {},
   "source": [
    "## Naive Bayes"
   ]
  },
  {
   "cell_type": "code",
   "execution_count": 64,
   "id": "d7a1bd54",
   "metadata": {},
   "outputs": [
    {
     "name": "stdout",
     "output_type": "stream",
     "text": [
      "Training Scores:\n",
      "\tAccuracy = 0.905\n",
      "\tPrecision = 0.869\n",
      "\tRecall = 0.953\n",
      "\tF1-Score = 0.909\n",
      "Testing Scores:\n",
      "\tAccuracy = 0.869\n",
      "\tPrecision = 0.677\n",
      "\tRecall = 0.933\n",
      "\tF1-Score = 0.785\n"
     ]
    }
   ],
   "source": [
    "mnb = MultinomialNB()\n",
    "mnb.fit(vectorized_x_train_smote, y_train_smote)\n",
    "\n",
    "y_train_pred = mnb.predict(vectorized_x_train_smote)\n",
    "\n",
    "y_test_pred = mnb.predict(xtest_vectorized_list)\n",
    "\n",
    "training_scores(y_train_smote, y_train_pred)\n",
    "\n",
    "validation_scores(ytest, y_test_pred)"
   ]
  },
  {
   "cell_type": "markdown",
   "id": "d6eebaf6",
   "metadata": {},
   "source": [
    "## Decision Tree"
   ]
  },
  {
   "cell_type": "code",
   "execution_count": 65,
   "id": "e3430c8e",
   "metadata": {},
   "outputs": [
    {
     "name": "stdout",
     "output_type": "stream",
     "text": [
      "Training Scores:\n",
      "\tAccuracy = 0.905\n",
      "\tPrecision = 0.869\n",
      "\tRecall = 0.953\n",
      "\tF1-Score = 0.909\n",
      "Testing Scores:\n",
      "\tAccuracy = 0.869\n",
      "\tPrecision = 0.677\n",
      "\tRecall = 0.933\n",
      "\tF1-Score = 0.785\n"
     ]
    }
   ],
   "source": [
    "dt = MultinomialNB()\n",
    "dt.fit(vectorized_x_train_smote, y_train_smote)\n",
    "\n",
    "y_train_pred = dt.predict(vectorized_x_train_smote)\n",
    "\n",
    "y_test_pred = dt.predict(xtest_vectorized_list)\n",
    "\n",
    "training_scores(y_train_smote, y_train_pred)\n",
    "\n",
    "validation_scores(ytest, y_test_pred)"
   ]
  },
  {
   "cell_type": "markdown",
   "id": "993c45a5",
   "metadata": {},
   "source": [
    "## Random Forest"
   ]
  },
  {
   "cell_type": "code",
   "execution_count": 66,
   "id": "be34cad1",
   "metadata": {},
   "outputs": [
    {
     "name": "stdout",
     "output_type": "stream",
     "text": [
      "Training Scores:\n",
      "\tAccuracy = 0.905\n",
      "\tPrecision = 0.869\n",
      "\tRecall = 0.953\n",
      "\tF1-Score = 0.909\n"
     ]
    }
   ],
   "source": [
    "rf = MultinomialNB()\n",
    "rf.fit(vectorized_x_train_smote, y_train_smote)\n",
    "\n",
    "y_train_pred = rf.predict(vectorized_x_train_smote)\n",
    "\n",
    "y_test_pred = rf.predict(xtest_vectorized_list)\n",
    "\n",
    "training_scores(y_train_smote, y_train_pred)\n"
   ]
  },
  {
   "cell_type": "markdown",
   "id": "ad318a81",
   "metadata": {},
   "source": [
    "## Support Vector"
   ]
  },
  {
   "cell_type": "code",
   "execution_count": 67,
   "id": "fe80a093",
   "metadata": {},
   "outputs": [
    {
     "name": "stdout",
     "output_type": "stream",
     "text": [
      "Training Scores:\n",
      "\tAccuracy = 0.905\n",
      "\tPrecision = 0.869\n",
      "\tRecall = 0.953\n",
      "\tF1-Score = 0.909\n"
     ]
    }
   ],
   "source": [
    "svc = MultinomialNB()\n",
    "svc.fit(vectorized_x_train_smote, y_train_smote)\n",
    "\n",
    "y_train_pred = svc.predict(vectorized_x_train_smote)\n",
    "\n",
    "y_test_pred = svc.predict(xtest_vectorized_list)\n",
    "\n",
    "training_scores(y_train_smote, y_train_pred)"
   ]
  },
  {
   "cell_type": "code",
   "execution_count": 70,
   "id": "80fec687",
   "metadata": {},
   "outputs": [],
   "source": [
    "import pickle \n",
    "with open('../static/model/model.pickle','wb')as file:\n",
    "    pickle.dump(lr,file)"
   ]
  },
  {
   "cell_type": "code",
   "execution_count": null,
   "id": "b118b42a",
   "metadata": {},
   "outputs": [],
   "source": []
  }
 ],
 "metadata": {
  "kernelspec": {
   "display_name": "Python 3 (ipykernel)",
   "language": "python",
   "name": "python3"
  },
  "language_info": {
   "codemirror_mode": {
    "name": "ipython",
    "version": 3
   },
   "file_extension": ".py",
   "mimetype": "text/x-python",
   "name": "python",
   "nbconvert_exporter": "python",
   "pygments_lexer": "ipython3",
   "version": "3.11.1"
  }
 },
 "nbformat": 4,
 "nbformat_minor": 5
}
