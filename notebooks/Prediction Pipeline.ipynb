{
 "cells": [
  {
   "cell_type": "code",
   "execution_count": 25,
   "id": "de2fb76a",
   "metadata": {},
   "outputs": [],
   "source": [
    "import pandas as pd\n",
    "import numpy as np\n",
    "import re\n",
    "import string\n",
    "from nltk.stem import PorterStemmer\n",
    "ps = PorterStemmer()\n",
    "import pickle"
   ]
  },
  {
   "cell_type": "code",
   "execution_count": 26,
   "id": "b95b2ac4",
   "metadata": {},
   "outputs": [],
   "source": [
    "text=\"Great Product I like It !\"\n"
   ]
  },
  {
   "cell_type": "code",
   "execution_count": 27,
   "id": "b40807e6",
   "metadata": {},
   "outputs": [],
   "source": [
    "with open('../static/model/corpora/stopwords/english', 'r') as file:\n",
    "    sw = file.read().splitlines()"
   ]
  },
  {
   "cell_type": "code",
   "execution_count": 28,
   "id": "9f1d205f",
   "metadata": {},
   "outputs": [],
   "source": [
    "\n",
    "with open('../static/model/model.pickle','rb')as file:\n",
    "    model=pickle.load(file)"
   ]
  },
  {
   "cell_type": "code",
   "execution_count": 29,
   "id": "cdf15e49",
   "metadata": {},
   "outputs": [],
   "source": [
    "vocab=pd.read_csv('../static/model/vocabulary.txt',header=None)\n",
    "tokens=vocab[0].tolist()"
   ]
  },
  {
   "cell_type": "code",
   "execution_count": 30,
   "id": "5fca9cba",
   "metadata": {},
   "outputs": [],
   "source": [
    "def remove_punctuations(text):\n",
    "    for punctuation in string.punctuation:\n",
    "        text = text.replace(punctuation, '')\n",
    "    return text\n",
    "\n"
   ]
  },
  {
   "cell_type": "code",
   "execution_count": 31,
   "id": "8ec3ea7c",
   "metadata": {},
   "outputs": [],
   "source": [
    "def preprocessing(text):\n",
    "    data=pd.DataFrame([text],columns=['tweet'])\n",
    "    data['tweet']=data['tweet'].apply(lambda x:\" \".join(x.lower() for x in x.split()))\n",
    "    data[\"tweet\"] = data['tweet'].apply(lambda x: \" \".join(re.sub(r'^https?:\\/\\/.*[\\r\\n]*', '', x, flags=re.MULTILINE) for x in x.split()))\n",
    "    data[\"tweet\"] = data[\"tweet\"].apply(remove_punctuations)\n",
    "    data[\"tweet\"] = data['tweet'].str.replace('\\d+', '', regex=True)\n",
    "    data[\"tweet\"] = data[\"tweet\"].apply(lambda x: \" \".join(x for x in x.split() if x not in sw))\n",
    "    data[\"tweet\"] = data[\"tweet\"].apply(lambda x: \" \".join(ps.stem(x) for x in x.split()))\n",
    "    return data['tweet']"
   ]
  },
  {
   "cell_type": "code",
   "execution_count": 32,
   "id": "60e94dbd",
   "metadata": {},
   "outputs": [],
   "source": [
    "def vectorizer(ds, vocabulary):\n",
    "    vectorized_lst = []\n",
    "    \n",
    "    for sentence in ds:\n",
    "        sentence_lst = np.zeros(len(vocabulary))\n",
    "        \n",
    "        for i in range(len(vocabulary)):\n",
    "            if vocabulary[i] in sentence.split():\n",
    "                sentence_lst[i] = 1\n",
    "                \n",
    "        vectorized_lst.append(sentence_lst)\n",
    "        \n",
    "    vectorized_lst_new = np.asarray(vectorized_lst, dtype=np.float32)\n",
    "    \n",
    "    return vectorized_lst_new"
   ]
  },
  {
   "cell_type": "code",
   "execution_count": 33,
   "id": "2e41fc18",
   "metadata": {},
   "outputs": [],
   "source": [
    "preprocessed_text=preprocessing(text)"
   ]
  },
  {
   "cell_type": "code",
   "execution_count": 34,
   "id": "c4fd3c58",
   "metadata": {},
   "outputs": [],
   "source": [
    "vectorized_list=vectorizer(preprocessed_text,tokens)"
   ]
  },
  {
   "cell_type": "code",
   "execution_count": 35,
   "id": "8c4c7122",
   "metadata": {},
   "outputs": [
    {
     "data": {
      "text/plain": [
       "array([1], dtype=int64)"
      ]
     },
     "execution_count": 35,
     "metadata": {},
     "output_type": "execute_result"
    }
   ],
   "source": [
    "model.predict(vectorized_list)"
   ]
  },
  {
   "cell_type": "code",
   "execution_count": 51,
   "id": "4c7ef9e4",
   "metadata": {},
   "outputs": [],
   "source": [
    "new_text=\"I Really Love this product and awsome\""
   ]
  },
  {
   "cell_type": "code",
   "execution_count": 52,
   "id": "a2b82b45",
   "metadata": {},
   "outputs": [],
   "source": [
    "prep_text=preprocessing(new_text)\n",
    "vected=vectorizer(prep_text,tokens)"
   ]
  },
  {
   "cell_type": "code",
   "execution_count": 53,
   "id": "5a1db96a",
   "metadata": {},
   "outputs": [
    {
     "data": {
      "text/plain": [
       "array([0], dtype=int64)"
      ]
     },
     "execution_count": 53,
     "metadata": {},
     "output_type": "execute_result"
    }
   ],
   "source": [
    "model.predict(vected)"
   ]
  },
  {
   "cell_type": "code",
   "execution_count": 54,
   "id": "2cbc0b09",
   "metadata": {},
   "outputs": [],
   "source": [
    "def prediction(vected_text):\n",
    "    result=model.predict(vected_text)\n",
    "    if result==1:\n",
    "        return \"Negative Feed\"\n",
    "    else:\n",
    "        return \"Positive Feed\"\n"
   ]
  },
  {
   "cell_type": "code",
   "execution_count": 55,
   "id": "a789e204",
   "metadata": {},
   "outputs": [
    {
     "data": {
      "text/plain": [
       "'Positive Feed'"
      ]
     },
     "execution_count": 55,
     "metadata": {},
     "output_type": "execute_result"
    }
   ],
   "source": [
    "prediction(vected)"
   ]
  },
  {
   "cell_type": "code",
   "execution_count": null,
   "id": "43e5fe36",
   "metadata": {},
   "outputs": [],
   "source": []
  }
 ],
 "metadata": {
  "kernelspec": {
   "display_name": "Python 3 (ipykernel)",
   "language": "python",
   "name": "python3"
  },
  "language_info": {
   "codemirror_mode": {
    "name": "ipython",
    "version": 3
   },
   "file_extension": ".py",
   "mimetype": "text/x-python",
   "name": "python",
   "nbconvert_exporter": "python",
   "pygments_lexer": "ipython3",
   "version": "3.11.1"
  }
 },
 "nbformat": 4,
 "nbformat_minor": 5
}
